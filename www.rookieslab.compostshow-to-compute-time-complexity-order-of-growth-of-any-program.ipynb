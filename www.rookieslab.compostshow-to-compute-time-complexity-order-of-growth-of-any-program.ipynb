{
 "cells": [
  {
   "cell_type": "code",
   "execution_count": null,
   "metadata": {},
   "outputs": [],
   "source": [
    "#https://www.rookieslab.com/posts/how-to-compute-time-complexity-order-of-growth-of-any-program"
   ]
  },
  {
   "cell_type": "markdown",
   "metadata": {},
   "source": [
    "### constant time complexity"
   ]
  },
  {
   "cell_type": "code",
   "execution_count": 2,
   "metadata": {},
   "outputs": [
    {
     "data": {
      "text/plain": [
       "7"
      ]
     },
     "execution_count": 2,
     "metadata": {},
     "output_type": "execute_result"
    }
   ],
   "source": [
    "def my_sum(a, b):\n",
    "    return a+b\n",
    "\n",
    "my_sum(2,5)"
   ]
  },
  {
   "cell_type": "markdown",
   "metadata": {},
   "source": [
    "* If we call this function by my_sum(2, 5) it will return 7 in 1 step. That single step of computation is summing a and b. No matter how large is the size of input i.e. a and b is, it will always return the sum in 1 step."
   ]
  },
  {
   "cell_type": "markdown",
   "metadata": {},
   "source": [
    "### Linear Time Complexity?\n",
    "* The code whose Time Complexity or Order of Growth increases linearly as the size of the input is increased has Linear Time Complexity. For instance, let’s see this code which returns the sum of a list."
   ]
  },
  {
   "cell_type": "code",
   "execution_count": null,
   "metadata": {},
   "outputs": [],
   "source": [
    "def my_list_sum(l):\n",
    "    result = 0\n",
    "    for i in l:\n",
    "        result += i\n",
    "    return result"
   ]
  },
  {
   "cell_type": "markdown",
   "metadata": {},
   "source": [
    "* Here, we are providing a list to the function. If I pass a list of size 10. The number of steps would be, considering the size of list is 10:\n",
    "\n",
    "* 1 step for initializing result\n",
    "* Loop over the list, and the statement inside loop is executed 10 times.\n",
    "* 1 step for return statement\n",
    "* In total 1 + 10 + 1 = 12 steps. Now what if the size of list is 1000000. Then the total steps would be 1 + 1000000 + 1 = 1000002. Do the first and last 1s matter?\n",
    "\n",
    "* For list of size N, Time Complexity would be 1 + N + 1 = (N + 2). We can safely neglect the additional 2 and say that the overall Time Complexity is O(N) (because we saw that as N becomes large the steps with constant time have negligible effect on running time of the code)."
   ]
  },
  {
   "cell_type": "markdown",
   "metadata": {},
   "source": [
    "### Logarithmic Time Complexity?\n",
    "* When the size of input is N but the number of steps to execute the code is log(N), such a code is said to be executing in Logarithmic Time. This definition is quite vague from top but if we take an example, it will be quite clear.\n",
    "\n",
    "* Let’s say we have a very large number which is a power of 2 i.e. we have 2^x. We want to find x. For eg: 64 = 2^6. So x is 6."
   ]
  },
  {
   "cell_type": "code",
   "execution_count": null,
   "metadata": {},
   "outputs": [],
   "source": [
    "def power_of_2(a):\n",
    "    x = 0\n",
    "    while a > 1:\n",
    "        a = a//2\n",
    "        x = x+1\n",
    "    return x"
   ]
  },
  {
   "cell_type": "markdown",
   "metadata": {},
   "source": [
    "* Now if I call power_of_2(16), the while loop will run 4 times, because we keep dividing a by 2. In first iteration, a will become 8, in second iteration a=4, in third iteration a=2 and in forth iteration a=1. That’s when the loop will break.\n",
    "\n",
    "* Now there are 2 instructions inside the loop, so total number of steps would be,\n",
    "\n",
    "* 1 - for x = 0 2*4 - for 2 statements inside the loop 1 - for return statement.\n",
    "\n",
    "* In total 2*4 + 2. If we increase the size of a to 1024. It will take 2*10 + 2 steps. Do you notice a pattern here? No?\n",
    "\n",
    "* What is log(16) = 4 (Considering log of base 2) What is log(1024) = 10\n",
    "\n",
    "* When we keep dividing the size of input N by some value, say b. Then the Time Complexity turns out to be log(N) to the base b.\n",
    "\n",
    "* So, overall time complexity of the above code is, 2*log(N) + 2. For very large values of N, the multiplication by 2 and the additional 2 can be neglected. Hence, it is log(N) to the base 2.\n",
    "\n",
    "* Another example? Go ahead and analyze the code of Binary Search. Shh shh.. Hint: Consider size of the search_list as N and note that we keep dividing the list in 2 halves in the loop somewhere."
   ]
  },
  {
   "cell_type": "code",
   "execution_count": null,
   "metadata": {},
   "outputs": [],
   "source": [
    "def binary_search(x, search_list):\n",
    "    iterations = 1\n",
    "    left = 0 # Determines the starting index of the list we have to search in\n",
    "    right = len(search_list)-1 # Determines the last index of the list we have to search in\n",
    "    mid = (right + left)//2\n",
    "    while search_list[mid] != x: # If this is not our search element\n",
    "        # If the current middle element is less than x then move the left next to mid\n",
    "        # Else we move right next to mid\n",
    "        if  search_list[mid] < x:\n",
    "            left = mid + 1\n",
    "        else:\n",
    "            right = mid - 1\n",
    "        mid = (right + left)//2 # This is a very important line of code\n",
    "        iterations += 1\n",
    "    print 'iterations = ',str(iterations)\n",
    "    return mid\n",
    "\n",
    "print(binary_search(32, [4,8,9,10,24,32,45,56]))\n",
    "# Output:\n",
    "# -------\n",
    "# iterations =  2\n",
    "# 5"
   ]
  },
  {
   "cell_type": "markdown",
   "metadata": {},
   "source": [
    "###  Log-Linear Time Complexity\n",
    "* When we call a Logarithmic Time Algorithm inside a loop, it would result into a Log-Linear Time Complexity program.\n",
    "\n",
    "* For example: Let’s say I have long sorted list of size N. And I have Q numbers, for each of those Q numbers I have to find the index of it in the given list"
   ]
  },
  {
   "cell_type": "code",
   "execution_count": null,
   "metadata": {},
   "outputs": [],
   "source": [
    "for i in Qlist:\n",
    "    print binary_search(x, search_list) # This statement is executed Q times"
   ]
  },
  {
   "cell_type": "markdown",
   "metadata": {},
   "source": [
    "* Analyzing above code, we know that the call to Binary Search function takes O(log N) time. We are calling it Q times. Hence the overall time complexity is Q x O(log N). Simplifying, we have O(Q logN).\n",
    "\n",
    "* Another example for this could be Merge Sort algorith,"
   ]
  },
  {
   "cell_type": "markdown",
   "metadata": {},
   "source": [
    "###  Polynomial Time Complexity\n",
    "* When the computation time increases as function of N raised to some power, N being the size of input. Such a code has Polynomial Time Complexity.\n",
    "\n",
    "* For example, let’s say we have a list of size N and we have nested loops on that list."
   ]
  },
  {
   "cell_type": "code",
   "execution_count": null,
   "metadata": {},
   "outputs": [],
   "source": [
    "for i in N:\n",
    "    for j in N:\n",
    "        # Some processing"
   ]
  },
  {
   "cell_type": "markdown",
   "metadata": {},
   "source": [
    "* In the above code, the processing part is executed N*N times i.e. N^2 times. Such a code has O(N^2) time complexity."
   ]
  },
  {
   "cell_type": "markdown",
   "metadata": {},
   "source": [
    "###  Exponential Time Complexity?\n",
    "* When the computation time of a code increases as function of X^N, N being the size of input. Such a code has Polynomial Time Complexity.\n",
    "\n",
    "* For example, following recursive code to find Nth fibonacci number has Time Complexity as O(2^N)"
   ]
  },
  {
   "cell_type": "code",
   "execution_count": null,
   "metadata": {},
   "outputs": [],
   "source": [
    "def F(n):\n",
    "    if n == 0:\n",
    "        return 0\n",
    "    elif n == 1:\n",
    "        return 1\n",
    "    else:\n",
    "        return F(n-1) + F(n-2) # For every call to F, we make 2 more calls to F itself"
   ]
  },
  {
   "cell_type": "markdown",
   "metadata": {},
   "source": [
    "* In the above code, for every call to F() we make two more calls to F() in the else part. So if I call F(4), the tree of calls to F() would look like:\n",
    "\n",
    " F(4)\n",
    "             ____/   \\_____\n",
    "          F(3)     +       F(2)\n",
    "         /   \\             /  \\\n",
    "     (F(2) + F(1)) +   (F(1) + F(0))\n",
    "    /    \\\n",
    "  F(1) + F(0)"
   ]
  },
  {
   "cell_type": "markdown",
   "metadata": {},
   "source": [
    "* This tree keeps growing exponentially as we increase N. Hence the Time Complexity O(2^N).\n",
    "\n",
    "* If you came all the way down here, how about some exercise for you? Can you guess some examples of O(sqrt(N)) and O(log (log N))?\n",
    "\n",
    "* In all the further posts regarding algorithm and datastructures, we will use the same notation for Time Complexity. If you love Competitive Programming, you’ll find following chart very useful."
   ]
  },
  {
   "cell_type": "code",
   "execution_count": null,
   "metadata": {},
   "outputs": [],
   "source": []
  }
 ],
 "metadata": {
  "kernelspec": {
   "display_name": "Python 3",
   "language": "python",
   "name": "python3"
  },
  "language_info": {
   "codemirror_mode": {
    "name": "ipython",
    "version": 3
   },
   "file_extension": ".py",
   "mimetype": "text/x-python",
   "name": "python",
   "nbconvert_exporter": "python",
   "pygments_lexer": "ipython3",
   "version": "3.8.5"
  }
 },
 "nbformat": 4,
 "nbformat_minor": 4
}
