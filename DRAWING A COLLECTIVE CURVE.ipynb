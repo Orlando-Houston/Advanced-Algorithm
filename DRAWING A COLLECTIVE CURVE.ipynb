{
 "cells": [
  {
   "cell_type": "code",
   "execution_count": 5,
   "metadata": {},
   "outputs": [],
   "source": [
    "import matplotlib.pyplot as plt\n",
    "import numpy as np\n",
    "import time\n",
    "import timeit\n",
    "import math\n",
    "import random\n",
    "import scipy.optimize as optimization\n",
    "from scipy.optimize import curve_fit\n",
    "from sklearn.linear_model import  LinearRegression\n",
    "from sklearn import linear_model"
   ]
  },
  {
   "cell_type": "code",
   "execution_count": 6,
   "metadata": {},
   "outputs": [],
   "source": [
    "from numpy import array, exp\n",
    "from scipy.optimize import curve_fit\n",
    "import matplotlib.pyplot as plt "
   ]
  },
  {
   "cell_type": "code",
   "execution_count": 7,
   "metadata": {},
   "outputs": [],
   "source": [
    "# Linear func\n",
    "def func(x,a,b):\n",
    "    return a*x+b\n",
    "# quadratic func\n",
    "def func1(x, a, b, c):\n",
    "    return a*x**2+b*x+c\n",
    "# cubic func\n",
    "def func2(x, a, b, c):\n",
    "    return a*x**3+b*x+c\n",
    "\n",
    "def func3(x, a, b, c):\n",
    "    return a*x**3+b*x**2+c\n",
    "\n"
   ]
  },
  {
   "cell_type": "code",
   "execution_count": 8,
   "metadata": {},
   "outputs": [],
   "source": [
    "def my_list_sum(n):\n",
    "    result = 0\n",
    "    for i in range(n):\n",
    "        result += i\n",
    "    return result"
   ]
  },
  {
   "cell_type": "code",
   "execution_count": 10,
   "metadata": {},
   "outputs": [
    {
     "data": {
      "image/png": "[encoded data removed]",
      "text/plain": [
       "<Figure size 648x216 with 1 Axes>"
      ]
     },
     "metadata": {
      "needs_background": "light"
     },
     "output_type": "display_data"
    }
   ],
   "source": [
    "import time\n",
    "n=100000\n",
    "times =[]\n",
    "inputs=[]\n",
    "\n",
    "for i in range(1,n,1):\n",
    "    start = time.process_time()\n",
    "    my_list_sum(i)\n",
    "    end =time.process_time()\n",
    "    times +=[end-start]\n",
    "    inputs +=[i]\n",
    "    \n",
    "    \n",
    "plt.figure(figsize=(9,3))\n",
    "plt.xlabel(\"n\")\n",
    "plt.ylabel('t')\n",
    "\n",
    "plt.scatter(inputs,times,marker=\"^\",label ='óriginal')\n",
    "\n",
    "# fit the data with a linear function\n",
    "params, cov = curve_fit(func,inputs,times)\n",
    "params, cov = curve_fit(func1,inputs,times)\n",
    "params, cov = curve_fit(func2,inputs,times)\n",
    "params, cov = curve_fit(func3,inputs,times)\n",
    "\n",
    "linear_fit =[]\n",
    "quadratic_fit =[]\n",
    "cubic_fit =[]\n",
    "dontnow_fit =[]\n",
    "\n",
    "\n",
    "\n",
    "for x in inputs:\n",
    "    linear_fit += [func(x,params[0],params[1])]\n",
    "    quadratic_fit += [func1(x,params[0],params[1],params[2])]\n",
    "    cubic_fit += [func2(x,params[0],params[1],params[2])]\n",
    "    dontnow_fit += [func3(x,params[0],params[1],params[2])]\n",
    "    \n",
    "\n",
    "plt.plot(inputs,linear_fit,color='red',label = \"y=a*x+b\");    \n",
    "plt.plot(inputs,quadratic_fit,color='black',label = \"y=a*x**2+b*x+c\");\n",
    "plt.plot(inputs,cubic_fit,color='green', label =\"y=a*x**3+b*x+c\");\n",
    "plt.plot(inputs,dontnow_fit,color='yellow',label = \"y=a*x**3+b*x**2+c\");\n",
    "\n",
    "\n",
    "plt.legend(loc='upper left',fancybox=True,shadow=True)\n",
    "plt.grid(True)\n",
    "plt.show()"
   ]
  },
  {
   "cell_type": "code",
   "execution_count": null,
   "metadata": {},
   "outputs": [],
   "source": []
  },
  {
   "cell_type": "code",
   "execution_count": null,
   "metadata": {},
   "outputs": [],
   "source": []
  },
  {
   "cell_type": "code",
   "execution_count": null,
   "metadata": {},
   "outputs": [],
   "source": []
  }
 ],
 "metadata": {
  "kernelspec": {
   "display_name": "Python 3",
   "language": "python",
   "name": "python3"
  },
  "language_info": {
   "codemirror_mode": {
    "name": "ipython",
    "version": 3
   },
   "file_extension": ".py",
   "mimetype": "text/x-python",
   "name": "python",
   "nbconvert_exporter": "python",
   "pygments_lexer": "ipython3",
   "version": "3.8.5"
  }
 },
 "nbformat": 4,
 "nbformat_minor": 4
}
