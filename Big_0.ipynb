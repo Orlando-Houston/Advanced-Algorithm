{
 "cells": [
  {
   "cell_type": "code",
   "execution_count": null,
   "metadata": {},
   "outputs": [],
   "source": [
    "# https://github.com/pberkes/big_O\n",
    "# A Gentle Introduction to Model Selection for Machine Learning"
   ]
  },
  {
   "cell_type": "code",
   "execution_count": 1,
   "metadata": {},
   "outputs": [
    {
     "name": "stdout",
     "output_type": "stream",
     "text": [
      "Requirement already satisfied: big-O in c:\\anaconda\\lib\\site-packages (0.10.1)\n",
      "Requirement already satisfied: numpy in c:\\anaconda\\lib\\site-packages (from big-O) (1.19.2)\n"
     ]
    }
   ],
   "source": [
    "!pip install big-O"
   ]
  },
  {
   "cell_type": "code",
   "execution_count": 1,
   "metadata": {},
   "outputs": [],
   "source": [
    "def find_max(x):\n",
    "    max_ = 0\n",
    "    for el in x:\n",
    "        if el > max_:\n",
    "            max_ = el\n",
    "            return max_\n"
   ]
  },
  {
   "cell_type": "code",
   "execution_count": 2,
   "metadata": {},
   "outputs": [
    {
     "name": "stdout",
     "output_type": "stream",
     "text": [
      "Constant: time = 2.9E-05 (sec)\n"
     ]
    }
   ],
   "source": [
    "import big_o\n",
    "positive_int_generator = lambda n: big_o.datagen.integers(n, 0, 10000)\n",
    "best, others = big_o.big_o(find_max, positive_int_generator, n_repeats=100)\n",
    "print(best)"
   ]
  },
  {
   "cell_type": "code",
   "execution_count": 3,
   "metadata": {},
   "outputs": [
    {
     "name": "stdout",
     "output_type": "stream",
     "text": [
      "Constant: time = 2.9E-05 (sec)                                  (res: 4E-10)\n",
      "Linear: time = 2.5E-05 + 9E-11*n (sec)                          (res: 3.2E-10)\n",
      "Quadratic: time = 2.7E-05 + 8.1E-16*n^2 (sec)                   (res: 3.3E-10)\n",
      "Cubic: time = 2.7E-05 + 7.3E-21*n^3 (sec)                       (res: 3.5E-10)\n",
      "Polynomial: time = -11 * x^0.026 (sec)                          (res: 0.34)\n",
      "Logarithmic: time = 2.1E-05 + 8.8E-07*log(n) (sec)              (res: 3.8E-10)\n",
      "Linearithmic: time = 2.5E-05 + 7.7E-12*n*log(n) (sec)           (res: 3.2E-10)\n",
      "Exponential: time = -11 * 2.8E-06^n (sec)                       (res: 0.29)\n"
     ]
    }
   ],
   "source": [
    "for class_, residuals in others.items():\n",
    "    print('{!s:<60s}    (res: {:.2G})'.format(class_, residuals))"
   ]
  },
  {
   "cell_type": "code",
   "execution_count": null,
   "metadata": {},
   "outputs": [],
   "source": []
  },
  {
   "cell_type": "code",
   "execution_count": 6,
   "metadata": {},
   "outputs": [
    {
     "name": "stdout",
     "output_type": "stream",
     "text": [
      "Exponential: time = 2.7 * 1.7E-06^n (sec)\n"
     ]
    }
   ],
   "source": [
    "import big_o\n",
    "positive_int_generator = lambda n: big_o.datagen.integers(n, 0, 10000000)\n",
    "best, others = big_o.big_o(find_max, positive_int_generator, n_repeats=50000000)\n",
    "print(best)"
   ]
  },
  {
   "cell_type": "code",
   "execution_count": 7,
   "metadata": {},
   "outputs": [
    {
     "name": "stdout",
     "output_type": "stream",
     "text": [
      "Constant: time = 17 (sec)                                       (res: 53)\n",
      "Linear: time = 15 + 3.3E-05*n (sec)                             (res: 42)\n",
      "Quadratic: time = 16 + 3.3E-10*n^2 (sec)                        (res: 41)\n",
      "Cubic: time = 16 + 3.2E-15*n^3 (sec)                            (res: 42)\n",
      "Polynomial: time = 2.6 * x^0.02 (sec)                           (res: 0.13)\n",
      "Logarithmic: time = 13 + 0.36*log(n) (sec)                      (res: 48)\n",
      "Linearithmic: time = 15 + 2.9E-06*n*log(n) (sec)                (res: 42)\n",
      "Exponential: time = 2.7 * 1.7E-06^n (sec)                       (res: 0.11)\n"
     ]
    }
   ],
   "source": [
    "for class_, residuals in others.items():\n",
    "    print('{!s:<60s}    (res: {:.2G})'.format(class_, residuals))"
   ]
  },
  {
   "cell_type": "code",
   "execution_count": null,
   "metadata": {},
   "outputs": [],
   "source": []
  },
  {
   "cell_type": "code",
   "execution_count": null,
   "metadata": {},
   "outputs": [],
   "source": [
    "# Sorting a list in Python is O(n*log(n)) (a.k.a. 'linearithmic'):"
   ]
  },
  {
   "cell_type": "code",
   "execution_count": 4,
   "metadata": {},
   "outputs": [
    {
     "data": {
      "text/plain": [
       "(<big_o.complexities.Linear at 0x26a9ff99910>,\n",
       " {<big_o.complexities.Constant at 0x26a9ff8faf0>: 0.00022571606595411895,\n",
       "  <big_o.complexities.Linear at 0x26a9ff99910>: 1.2148507788461539e-05,\n",
       "  <big_o.complexities.Quadratic at 0x26a9ff99070>: 3.015859203726598e-05,\n",
       "  <big_o.complexities.Cubic at 0x26a9ff99e50>: 5.439662204291985e-05,\n",
       "  <big_o.complexities.Polynomial at 0x26a9ff99b20>: 0.2646198600084698,\n",
       "  <big_o.complexities.Logarithmic at 0x26a9ffcd100>: 0.00010251995629982459,\n",
       "  <big_o.complexities.Linearithmic at 0x26a9ffcd1f0>: 1.2547281597627312e-05,\n",
       "  <big_o.complexities.Exponential at 0x26a9ffcd0a0>: 14.215779583931509})"
      ]
     },
     "execution_count": 4,
     "metadata": {},
     "output_type": "execute_result"
    }
   ],
   "source": [
    "big_o.big_o(sorted, lambda n: big_o.datagen.integers(n, 10000, 50000))"
   ]
  },
  {
   "cell_type": "code",
   "execution_count": null,
   "metadata": {},
   "outputs": [],
   "source": [
    "# Inserting elements at the beginning of a list is O(n):"
   ]
  },
  {
   "cell_type": "code",
   "execution_count": 12,
   "metadata": {},
   "outputs": [
    {
     "name": "stdout",
     "output_type": "stream",
     "text": [
      "Linear: time = -0.00011 + 5.2E-09*n (sec)\n"
     ]
    }
   ],
   "source": [
    "def insert_0(lst):\n",
    "    lst.insert(0, 0)\n",
    "\n",
    "print(big_o.big_o(insert_0, big_o.datagen.range_n, n_measures=100)[0])\n",
    "\n"
   ]
  },
  {
   "cell_type": "code",
   "execution_count": 13,
   "metadata": {},
   "outputs": [],
   "source": [
    "# Inserting elements at the beginning of a queue is O(1):"
   ]
  },
  {
   "cell_type": "code",
   "execution_count": 15,
   "metadata": {},
   "outputs": [
    {
     "name": "stdout",
     "output_type": "stream",
     "text": [
      "Constant: time = 1.8E-06 (sec)\n"
     ]
    }
   ],
   "source": [
    "from collections import deque\n",
    "def insert_0_queue(queue):\n",
    "    queue.insert(0, 0)\n",
    "\n",
    "def queue_generator(n):\n",
    "    return deque(range(n))\n",
    "\n",
    "print(big_o.big_o(insert_0_queue, queue_generator, n_measures=1000)[0])"
   ]
  },
  {
   "cell_type": "code",
   "execution_count": null,
   "metadata": {},
   "outputs": [],
   "source": [
    "# numpy examples"
   ]
  },
  {
   "cell_type": "code",
   "execution_count": null,
   "metadata": {},
   "outputs": [],
   "source": [
    "#numpy.zeros is O(n), since it needs to initialize every element to 0:"
   ]
  },
  {
   "cell_type": "code",
   "execution_count": 19,
   "metadata": {},
   "outputs": [
    {
     "data": {
      "text/plain": [
       "(<big_o.complexities.Linear at 0x26aa040ff70>,\n",
       " {<big_o.complexities.Constant at 0x26a9ff87b50>: 9.204752944106425e-06,\n",
       "  <big_o.complexities.Linear at 0x26aa040ff70>: 2.34541826495767e-06,\n",
       "  <big_o.complexities.Quadratic at 0x26aa040f6a0>: 4.012927848728805e-06,\n",
       "  <big_o.complexities.Cubic at 0x26aa040f640>: 5.276028813783717e-06,\n",
       "  <big_o.complexities.Polynomial at 0x26aa1ba6820>: 0.27009747466967476,\n",
       "  <big_o.complexities.Logarithmic at 0x26aa1ba6cd0>: 2.5341200322946186e-06,\n",
       "  <big_o.complexities.Linearithmic at 0x26aa1ba69a0>: 2.512613779810201e-06,\n",
       "  <big_o.complexities.Exponential at 0x26aa1ba6d30>: 3.261983156289728})"
      ]
     },
     "execution_count": 19,
     "metadata": {},
     "output_type": "execute_result"
    }
   ],
   "source": [
    "import numpy as np\n",
    "big_o.big_o(np.zeros, big_o.datagen.n_, max_n=100000, n_repeats=100)"
   ]
  },
  {
   "cell_type": "code",
   "execution_count": null,
   "metadata": {},
   "outputs": [],
   "source": [
    "#numpy.empty instead just allocates the memory, and is thus O(1):"
   ]
  },
  {
   "cell_type": "code",
   "execution_count": 21,
   "metadata": {},
   "outputs": [
    {
     "data": {
      "text/plain": [
       "(<big_o.complexities.Constant at 0x26aa1ba6f40>,\n",
       " {<big_o.complexities.Constant at 0x26aa1ba6f40>: 2.1100289909558703e-09,\n",
       "  <big_o.complexities.Linear at 0x26aa1ba6910>: 1.6441429011295184e-09,\n",
       "  <big_o.complexities.Quadratic at 0x26aa1ba65e0>: 1.9059255519232025e-09,\n",
       "  <big_o.complexities.Cubic at 0x26aa1ba6e50>: 1.977841962595215e-09,\n",
       "  <big_o.complexities.Polynomial at 0x26aa0504100>: 0.014575140512734957,\n",
       "  <big_o.complexities.Logarithmic at 0x26aa0504160>: 3.6181820282080313e-10,\n",
       "  <big_o.complexities.Linearithmic at 0x26aa05041c0>: 1.6909883616580067e-09,\n",
       "  <big_o.complexities.Exponential at 0x26aa0504220>: 0.0710399476045195})"
      ]
     },
     "execution_count": 21,
     "metadata": {},
     "output_type": "execute_result"
    }
   ],
   "source": [
    "big_o.big_o(np.empty, big_o.datagen.n_, max_n=100000, n_repeats=100)\n",
    "\n"
   ]
  },
  {
   "cell_type": "markdown",
   "metadata": {},
   "source": [
    "* We can compare the estimated time complexities of different Fibonacci number implementations. The naive implementation is exponential O(2^n). Since this implementation is very inefficient we'll reduce the maximum tested n:"
   ]
  },
  {
   "cell_type": "code",
   "execution_count": 32,
   "metadata": {},
   "outputs": [
    {
     "name": "stdout",
     "output_type": "stream",
     "text": [
      "Exponential: time = -11 * 0.49^n (sec)\n"
     ]
    }
   ],
   "source": [
    "def fib_naive(n):\n",
    "    if n < 0:\n",
    "        return -1\n",
    "    if n < 2:\n",
    "        return n\n",
    "    return fib_naive(n-1) + fib_naive(n-2)\n",
    "\n",
    "print(big_o.big_o(fib_naive, big_o.datagen.n_, n_repeats=20, min_n=2, max_n=25)[0])\n"
   ]
  },
  {
   "cell_type": "markdown",
   "metadata": {},
   "source": [
    "*  A more efficient implementation to find Fibonacci numbers involves using dynamic programming and is linear O(n):"
   ]
  },
  {
   "cell_type": "code",
   "execution_count": 30,
   "metadata": {},
   "outputs": [
    {
     "name": "stdout",
     "output_type": "stream",
     "text": [
      "Constant: time = 5.1E-05 (sec)\n"
     ]
    }
   ],
   "source": [
    "def fib_dp(n):\n",
    "    if n < 0:\n",
    "        return -1\n",
    "    if n < 2:\n",
    "        return n\n",
    "    a = 0\n",
    "    b = 1\n",
    "    for i in range(2, n+1):\n",
    "        a, b = b, a+b\n",
    "        return b\n",
    "print(big_o.big_o(fib_dp, big_o.datagen.n_, n_repeats=20, min_n=2, max_n=25)[0])"
   ]
  },
  {
   "cell_type": "markdown",
   "metadata": {},
   "source": [
    "* Thanks for the report!\n",
    "\n",
    "* The measurement of timing are bound to be noisy, in part because your machine is going to be running other tasks at the same time, in part because the architecture of your machine and OS adds several layers of complexities: multiple layers of hardware caching, memory page allocation and deletion, and many other optimizations.\n",
    "\n",
    "* I think the np.zeros and np.empty examples I added to the documentation are not so good for two reasons: 1) the functions complete so fast that any other process running at the same time will mess up the measurements; 2) they depend on memory allocation, which is something that the OS heavily optimizes, and so the timing as a function of size will show discontinuities that are due the optimization rather than the function itself.\n",
    "\n",
    "* In the vast majority of cases, these issues are negligible if you are using big_O to test a function that takes more than trivial time to run.\n",
    "\n",
    "* Occasionally, though, what in these examples is an annoyance might reveal an unwanted interaction between the algorithm and the OS or hardware. There is in fact a recent branch of computer science that designs algorithms in a way that takes into account modern computer architectures, rather than ignoring it."
   ]
  },
  {
   "cell_type": "code",
   "execution_count": null,
   "metadata": {},
   "outputs": [],
   "source": []
  }
 ],
 "metadata": {
  "kernelspec": {
   "display_name": "Python 3",
   "language": "python",
   "name": "python3"
  },
  "language_info": {
   "codemirror_mode": {
    "name": "ipython",
    "version": 3
   },
   "file_extension": ".py",
   "mimetype": "text/x-python",
   "name": "python",
   "nbconvert_exporter": "python",
   "pygments_lexer": "ipython3",
   "version": "3.8.5"
  }
 },
 "nbformat": 4,
 "nbformat_minor": 4
}
