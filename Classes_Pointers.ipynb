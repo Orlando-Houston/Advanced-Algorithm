{
 "cells": [
  {
   "cell_type": "code",
   "execution_count": 1,
   "metadata": {},
   "outputs": [
    {
     "name": "stdout",
     "output_type": "stream",
     "text": [
      "Cookie one is green\n",
      "Cookie two is blue\n",
      "\n",
      "Cookie one is now yellow\n",
      "Cookie two is still blue\n"
     ]
    }
   ],
   "source": [
    "class Cookie:\n",
    "    def __init__(self, color):\n",
    "        self.color = color\n",
    "\n",
    "    def get_color(self):\n",
    "        return self.color\n",
    "\n",
    "    def set_color(self, color):\n",
    "        self.color = color\n",
    "\n",
    "\n",
    "cookie_one = Cookie('green')\n",
    "cookie_two = Cookie('blue')\n",
    "\n",
    "print('Cookie one is', cookie_one.get_color())\n",
    "print('Cookie two is', cookie_two.get_color())\n",
    "\n",
    "cookie_one.set_color('yellow')\n",
    "\n",
    "print('\\nCookie one is now', cookie_one.get_color())\n",
    "print('Cookie two is still', cookie_two.get_color())\n"
   ]
  },
  {
   "cell_type": "code",
   "execution_count": null,
   "metadata": {},
   "outputs": [],
   "source": [
    "##########################################"
   ]
  },
  {
   "cell_type": "code",
   "execution_count": null,
   "metadata": {},
   "outputs": [],
   "source": [
    "class LinkesList:\n",
    "    def __init__(self,value):\n",
    "        \n",
    "    def append(self,value):\n",
    "        \n",
    "    def pop(self,value):\n",
    "        \n",
    "    def insert(self,index,value):\n",
    "        \n",
    "    def remove(self ,index):"
   ]
  },
  {
   "cell_type": "code",
   "execution_count": null,
   "metadata": {},
   "outputs": [],
   "source": []
  },
  {
   "cell_type": "markdown",
   "metadata": {},
   "source": [
    "### Pointers"
   ]
  },
  {
   "cell_type": "code",
   "execution_count": 2,
   "metadata": {},
   "outputs": [
    {
     "name": "stdout",
     "output_type": "stream",
     "text": [
      "Before num2 value is updated:\n",
      "num1 = 11\n",
      "num2 = 11\n",
      "\n",
      "num1 points to: 140705365829728\n",
      "num2 points to: 140705365829728\n",
      "\n",
      "After num2 value is updated:\n",
      "num1 = 11\n",
      "num2 = 22\n",
      "\n",
      "num1 points to: 140705365829728\n",
      "num2 points to: 140705365830080\n"
     ]
    }
   ],
   "source": [
    "num1 = 11\n",
    "\n",
    "num2 = num1\n",
    "\n",
    "print(\"Before num2 value is updated:\")\n",
    "print(\"num1 =\", num1)\n",
    "print(\"num2 =\", num2)\n",
    "\n",
    "print(\"\\nnum1 points to:\", id(num1))\n",
    "print(\"num2 points to:\", id(num2)) \n",
    "\n",
    "num2 = 22 \n",
    "\n",
    "print(\"\\nAfter num2 value is updated:\")\n",
    "print(\"num1 =\", num1)\n",
    "print(\"num2 =\", num2) \n",
    "\n",
    "print(\"\\nnum1 points to:\", id(num1))\n",
    "print(\"num2 points to:\", id(num2))\n"
   ]
  },
  {
   "cell_type": "code",
   "execution_count": null,
   "metadata": {},
   "outputs": [],
   "source": [
    "##############################################################"
   ]
  },
  {
   "cell_type": "code",
   "execution_count": 2,
   "metadata": {},
   "outputs": [],
   "source": [
    "dict1={'value':11}\n",
    "dict2=dict1"
   ]
  },
  {
   "cell_type": "code",
   "execution_count": 3,
   "metadata": {},
   "outputs": [
    {
     "name": "stdout",
     "output_type": "stream",
     "text": [
      "Before values is updated\n",
      "dict1 = {'value': 11}\n",
      "dict2 = {'value': 11}\n"
     ]
    }
   ],
   "source": [
    "print('Before values is updated')\n",
    "print(\"dict1 =\", dict2)\n",
    "print(\"dict2 =\", dict2)"
   ]
  },
  {
   "cell_type": "code",
   "execution_count": 4,
   "metadata": {},
   "outputs": [
    {
     "name": "stdout",
     "output_type": "stream",
     "text": [
      "\n",
      "num1 points to: 1484675877376\n",
      "num2 points to: 1484675877376\n"
     ]
    }
   ],
   "source": [
    "print(\"\\nnum1 points to:\", id(dict1))\n",
    "print(\"num2 points to:\", id(dict2)) \n",
    "\n",
    "num2 = 22 "
   ]
  },
  {
   "cell_type": "code",
   "execution_count": 5,
   "metadata": {},
   "outputs": [
    {
     "name": "stdout",
     "output_type": "stream",
     "text": [
      "\n",
      "After dict2 value is updated:\n",
      "dict1 = {'value': 11}\n",
      "dict2 = 22\n",
      "\n",
      "num1 points to: 1484675877376\n",
      "num2 points to: 140705317530048\n"
     ]
    }
   ],
   "source": [
    "dict2 = 22 \n",
    "\n",
    "print(\"\\nAfter dict2 value is updated:\")\n",
    "print(\"dict1 =\", dict1)\n",
    "print(\"dict2 =\", dict2) \n",
    "\n",
    "print(\"\\nnum1 points to:\", id(dict1))\n",
    "print(\"num2 points to:\", id(dict2))"
   ]
  },
  {
   "cell_type": "code",
   "execution_count": null,
   "metadata": {},
   "outputs": [],
   "source": []
  }
 ],
 "metadata": {
  "kernelspec": {
   "display_name": "Python 3",
   "language": "python",
   "name": "python3"
  },
  "language_info": {
   "codemirror_mode": {
    "name": "ipython",
    "version": 3
   },
   "file_extension": ".py",
   "mimetype": "text/x-python",
   "name": "python",
   "nbconvert_exporter": "python",
   "pygments_lexer": "ipython3",
   "version": "3.8.5"
  }
 },
 "nbformat": 4,
 "nbformat_minor": 4
}
