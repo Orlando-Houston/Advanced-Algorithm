{
 "cells": [
  {
   "cell_type": "markdown",
   "metadata": {
    "id": "yi7V2urTT3ZE"
   },
   "source": [
    "For the $O(n^2)$ algorithm, we check every element in the list with the elements succeeding that element, and if we find a match, we store it in another array (duplicate_array). In the end, we return the duplicate_array from our function. Since every element is compared with the succeeding elements, the total number of comparisons will be:\n",
    "$$ (n-1)+(n-2)+....+1 = \\dfrac{n(n-1)}{2} = O(n^2)$$"
   ]
  },
  {
   "cell_type": "code",
   "execution_count": 26,
   "metadata": {},
   "outputs": [],
   "source": [
    "import timeit"
   ]
  },
  {
   "cell_type": "code",
   "execution_count": null,
   "metadata": {},
   "outputs": [],
   "source": []
  },
  {
   "cell_type": "code",
   "execution_count": 27,
   "metadata": {
    "id": "Von9iK8kFdbP"
   },
   "outputs": [],
   "source": [
    "# O(n^2) Algorithm\n",
    "\n",
    "def find_duplicates_n2(array):\n",
    "    \n",
    "    duplicate_array = []\n",
    "    \n",
    "    for i in range(len(array)-1):\n",
    "        \n",
    "        for j in range(i+1, len(array)):\n",
    "            \n",
    "        \n",
    "            if(array[i]==array[j]):\n",
    "                \n",
    "                if array[i] in duplicate_array: break\n",
    "                    \n",
    "                \n",
    "                else:\n",
    "                    duplicate_array.append(array[i])\n",
    "                    \n",
    "                    return duplicate_array\n",
    "                        \n",
    "                    \n",
    "            \n",
    "                   \n",
    "                \n",
    "            \n",
    "               "
   ]
  },
  {
   "cell_type": "code",
   "execution_count": 24,
   "metadata": {
    "colab": {
     "base_uri": "https://localhost:8080/"
    },
    "id": "xBA9IHDLG4lS",
    "outputId": "bb936322-c3c8-4d12-dd09-ef15c31e590e"
   },
   "outputs": [
    {
     "data": {
      "text/plain": [
       "['quiz']"
      ]
     },
     "execution_count": 24,
     "metadata": {},
     "output_type": "execute_result"
    }
   ],
   "source": [
    "find_duplicates_n2(['homework', 'assignment', 'quiz', 'discussion', 'quiz', 'program'])"
   ]
  },
  {
   "cell_type": "code",
   "execution_count": 28,
   "metadata": {},
   "outputs": [
    {
     "ename": "ValueError",
     "evalue": "stmt is neither a string nor callable",
     "output_type": "error",
     "traceback": [
      "\u001b[1;31m---------------------------------------------------------------------------\u001b[0m",
      "\u001b[1;31mValueError\u001b[0m                                Traceback (most recent call last)",
      "\u001b[1;32m<ipython-input-28-cee9041e4be2>\u001b[0m in \u001b[0;36m<module>\u001b[1;34m\u001b[0m\n\u001b[1;32m----> 1\u001b[1;33m \u001b[0mprint\u001b[0m\u001b[1;33m(\u001b[0m\u001b[0mtimeit\u001b[0m\u001b[1;33m.\u001b[0m\u001b[0mtimeit\u001b[0m\u001b[1;33m(\u001b[0m\u001b[0mfind_duplicates_n2\u001b[0m\u001b[1;33m(\u001b[0m\u001b[1;33m[\u001b[0m\u001b[1;34m'homework'\u001b[0m\u001b[1;33m,\u001b[0m \u001b[1;34m'assignment'\u001b[0m\u001b[1;33m,\u001b[0m \u001b[1;34m'quiz'\u001b[0m\u001b[1;33m,\u001b[0m \u001b[1;34m'discussion'\u001b[0m\u001b[1;33m,\u001b[0m \u001b[1;34m'quiz'\u001b[0m\u001b[1;33m,\u001b[0m \u001b[1;34m'program'\u001b[0m\u001b[1;33m]\u001b[0m\u001b[1;33m)\u001b[0m\u001b[1;33m,\u001b[0m \u001b[0mnumber\u001b[0m\u001b[1;33m=\u001b[0m\u001b[1;36m1\u001b[0m\u001b[1;33m)\u001b[0m\u001b[1;33m)\u001b[0m\u001b[1;33m\u001b[0m\u001b[1;33m\u001b[0m\u001b[0m\n\u001b[0m",
      "\u001b[1;32mC:\\ANACONDA\\lib\\timeit.py\u001b[0m in \u001b[0;36mtimeit\u001b[1;34m(stmt, setup, timer, number, globals)\u001b[0m\n\u001b[0;32m    231\u001b[0m            number=default_number, globals=None):\n\u001b[0;32m    232\u001b[0m     \u001b[1;34m\"\"\"Convenience function to create Timer object and call timeit method.\"\"\"\u001b[0m\u001b[1;33m\u001b[0m\u001b[1;33m\u001b[0m\u001b[0m\n\u001b[1;32m--> 233\u001b[1;33m     \u001b[1;32mreturn\u001b[0m \u001b[0mTimer\u001b[0m\u001b[1;33m(\u001b[0m\u001b[0mstmt\u001b[0m\u001b[1;33m,\u001b[0m \u001b[0msetup\u001b[0m\u001b[1;33m,\u001b[0m \u001b[0mtimer\u001b[0m\u001b[1;33m,\u001b[0m \u001b[0mglobals\u001b[0m\u001b[1;33m)\u001b[0m\u001b[1;33m.\u001b[0m\u001b[0mtimeit\u001b[0m\u001b[1;33m(\u001b[0m\u001b[0mnumber\u001b[0m\u001b[1;33m)\u001b[0m\u001b[1;33m\u001b[0m\u001b[1;33m\u001b[0m\u001b[0m\n\u001b[0m\u001b[0;32m    234\u001b[0m \u001b[1;33m\u001b[0m\u001b[0m\n\u001b[0;32m    235\u001b[0m def repeat(stmt=\"pass\", setup=\"pass\", timer=default_timer,\n",
      "\u001b[1;32mC:\\ANACONDA\\lib\\timeit.py\u001b[0m in \u001b[0;36m__init__\u001b[1;34m(self, stmt, setup, timer, globals)\u001b[0m\n\u001b[0;32m    127\u001b[0m             \u001b[0mstmt\u001b[0m \u001b[1;33m=\u001b[0m \u001b[1;34m'_stmt()'\u001b[0m\u001b[1;33m\u001b[0m\u001b[1;33m\u001b[0m\u001b[0m\n\u001b[0;32m    128\u001b[0m         \u001b[1;32melse\u001b[0m\u001b[1;33m:\u001b[0m\u001b[1;33m\u001b[0m\u001b[1;33m\u001b[0m\u001b[0m\n\u001b[1;32m--> 129\u001b[1;33m             \u001b[1;32mraise\u001b[0m \u001b[0mValueError\u001b[0m\u001b[1;33m(\u001b[0m\u001b[1;34m\"stmt is neither a string nor callable\"\u001b[0m\u001b[1;33m)\u001b[0m\u001b[1;33m\u001b[0m\u001b[1;33m\u001b[0m\u001b[0m\n\u001b[0m\u001b[0;32m    130\u001b[0m         \u001b[0msrc\u001b[0m \u001b[1;33m=\u001b[0m \u001b[0mtemplate\u001b[0m\u001b[1;33m.\u001b[0m\u001b[0mformat\u001b[0m\u001b[1;33m(\u001b[0m\u001b[0mstmt\u001b[0m\u001b[1;33m=\u001b[0m\u001b[0mstmt\u001b[0m\u001b[1;33m,\u001b[0m \u001b[0msetup\u001b[0m\u001b[1;33m=\u001b[0m\u001b[0msetup\u001b[0m\u001b[1;33m,\u001b[0m \u001b[0minit\u001b[0m\u001b[1;33m=\u001b[0m\u001b[0minit\u001b[0m\u001b[1;33m)\u001b[0m\u001b[1;33m\u001b[0m\u001b[1;33m\u001b[0m\u001b[0m\n\u001b[0;32m    131\u001b[0m         \u001b[0mself\u001b[0m\u001b[1;33m.\u001b[0m\u001b[0msrc\u001b[0m \u001b[1;33m=\u001b[0m \u001b[0msrc\u001b[0m  \u001b[1;31m# Save for traceback display\u001b[0m\u001b[1;33m\u001b[0m\u001b[1;33m\u001b[0m\u001b[0m\n",
      "\u001b[1;31mValueError\u001b[0m: stmt is neither a string nor callable"
     ]
    }
   ],
   "source": [
    "print(timeit.timeit(find_duplicates_n2(['homework', 'assignment', 'quiz', 'discussion', 'quiz', 'program']), number=1))"
   ]
  },
  {
   "cell_type": "code",
   "execution_count": 9,
   "metadata": {},
   "outputs": [
    {
     "name": "stdout",
     "output_type": "stream",
     "text": [
      "Duplicate elements in given array: \n",
      "2\n",
      "3\n",
      "8\n"
     ]
    }
   ],
   "source": [
    "\n",
    "arr = [1, 2, 3, 4, 2, 7, 8, 8, 3];   \n",
    "   \n",
    "print(\"Duplicate elements in given array: \");  \n",
    "#Searches for duplicate element  \n",
    "for i in range(0, len(arr)):  \n",
    "    for j in range(i+1, len(arr)):  \n",
    "        if(arr[i] == arr[j]):  \n",
    "            print(arr[j]);  "
   ]
  },
  {
   "cell_type": "code",
   "execution_count": null,
   "metadata": {},
   "outputs": [],
   "source": []
  },
  {
   "cell_type": "code",
   "execution_count": 16,
   "metadata": {},
   "outputs": [
    {
     "name": "stdout",
     "output_type": "stream",
     "text": [
      "Duplicate elements in given array: \n"
     ]
    }
   ],
   "source": [
    "import random\n",
    "import numpy as np\n",
    "arr =np.array(random.sample(range(1, 200), 150))\n",
    "print(\"Duplicate elements in given array: \");  \n",
    "#Searches for duplicate element  \n",
    "for i in range(0, len(arr)):  \n",
    "    for j in range(i+1, len(arr)):  \n",
    "        if(arr[i] == arr[j]):  \n",
    "            print(arr[j]);  \n"
   ]
  },
  {
   "cell_type": "code",
   "execution_count": null,
   "metadata": {},
   "outputs": [],
   "source": []
  },
  {
   "cell_type": "code",
   "execution_count": 1,
   "metadata": {},
   "outputs": [
    {
     "name": "stdout",
     "output_type": "stream",
     "text": [
      "Yes, there is a duplicate. [e.g. 'quiz']\n"
     ]
    }
   ],
   "source": [
    "#O(N^2) complexity :\n",
    "\n",
    "# list to store the data to be looped\n",
    "ls = [\"homework\", \"assignment\", \"quiz\", \"discussion\", \"quiz\", \"program\"]\n",
    "\n",
    "#O(N^2) complexity solution\n",
    "for i in range(len(ls)):\n",
    "    for j in range(i+1,len(ls)):\n",
    "        if( ls[i] == ls[j]):\n",
    "            print(\"Yes, there is a duplicate. [e.g. '{}']\".format(ls[i]))"
   ]
  },
  {
   "cell_type": "markdown",
   "metadata": {
    "id": "HYTb8ZsMURLq"
   },
   "source": [
    "For the $O(n)$ algorithm, one may use a Hashmap. In Python, this can be implemented using dictionaries. We maintain the count of each item in the dictionary. The first time we encounter the item, we create a key in the dictionary and initialize the count of that particular item to one. If we again encounter the item, we just increment the count of the corresponding key by 1. Since this is a hashmap, the \"finding the key\" step takes $O(1)$ time. As we repeat the same for all elements ($n$) of the array, we expect the process to take $O(n)$ time.\n",
    "\n",
    "Finally we go through the dictionary and print the values (or store the values in another array which can be returned by a function). This step takes less than $O(n)$ time, making the whole process an $O(n)$ algorithm.\n"
   ]
  },
  {
   "cell_type": "code",
   "execution_count": 40,
   "metadata": {
    "id": "UZPs43HWHUz6"
   },
   "outputs": [
    {
     "data": {
      "text/plain": [
       "[]"
      ]
     },
     "execution_count": 40,
     "metadata": {},
     "output_type": "execute_result"
    }
   ],
   "source": [
    "# O(n) Algorithm\n",
    "\n",
    "def find_duplicates_n(array):\n",
    "    duplicate_dict = {}\n",
    "    for element in array:\n",
    "        try: duplicate_dict[element] += 1\n",
    "        except: duplicate_dict[element] = 1\n",
    "        duplicate_array = [element for element in duplicate_dict if(duplicate_dict[element] > 1)]\n",
    "        return duplicate_array\n",
    "find_duplicates_n(['homework', 'assignment', 'quiz', 'discussion', 'quiz', 'program'])              "
   ]
  },
  {
   "cell_type": "code",
   "execution_count": 41,
   "metadata": {},
   "outputs": [
    {
     "name": "stdout",
     "output_type": "stream",
     "text": [
      "Yes, there is a duplicate. [e.g. 'quiz']\n"
     ]
    }
   ],
   "source": [
    "# O(N) complexity :\n",
    "\n",
    "# list to store the data to be looped\n",
    "ls = [\"homework\", \"assignment\", \"quiz\", \"discussion\", \"quiz\", \"program\"]\n",
    "\n",
    "#O(N) complexity solution\n",
    "dict = {}\n",
    "\n",
    "for i in range(len(ls)):\n",
    "    if(ls[i] in dict):\n",
    "        print(\"Yes, there is a duplicate. [e.g. '{}']\".format(ls[i]))\n",
    "    else : \n",
    "        #insert into dictionary if data is not there\n",
    "        dict[ls[i]] = ls[i]"
   ]
  },
  {
   "cell_type": "code",
   "execution_count": null,
   "metadata": {},
   "outputs": [],
   "source": []
  },
  {
   "cell_type": "code",
   "execution_count": null,
   "metadata": {},
   "outputs": [],
   "source": [
    "# O(n) if dict is hash, O(nlogn) if dict is tree, and simple, fixed. Thanks to Matthew for the suggestion.\n"
   ]
  },
  {
   "cell_type": "code",
   "execution_count": 1,
   "metadata": {},
   "outputs": [],
   "source": [
    "lst = [8, 8, 9, 9, 7, 15, 15, 2, 20, 13, 2, 24, 6, 11, 7, 12, 4, 10, 18, 13, 23, 11, 3, 11, 12, 10, 4, 5, 4, 22, 6, 3, 19, 14, 21, 11, 1, 5, 14, 8, 0, 1, 16, 5, 10, 13, 17, 1, 16, 17, 12, 6, 10, 0, 3, 9, 9, 3, 7, 7, 6, 6, 7, 5, 14, 18, 12, 19, 2, 8, 9, 0, 8, 4, 5]"
   ]
  },
  {
   "cell_type": "code",
   "execution_count": 3,
   "metadata": {},
   "outputs": [
    {
     "data": {
      "text/plain": [
       "[8]"
      ]
     },
     "execution_count": 3,
     "metadata": {},
     "output_type": "execute_result"
    }
   ],
   "source": [
    "def unique(lst):\n",
    "    \n",
    "    output = []\n",
    "    \n",
    "    y = {}\n",
    "    \n",
    "    for item in lst:\n",
    "        \n",
    "        y[item] = \"\"\n",
    "\n",
    "    for item in lst:\n",
    "        \n",
    "        if item in y:\n",
    "            \n",
    "            output.append(item)\n",
    "            \n",
    "\n",
    "            return output\n",
    "unique(lst)"
   ]
  },
  {
   "cell_type": "code",
   "execution_count": null,
   "metadata": {},
   "outputs": [],
   "source": [
    "#has_key in python is O(1). Insertion and retrieval from a hash is also O(1). Loops through n items twice, so O(n)."
   ]
  },
  {
   "cell_type": "code",
   "execution_count": 12,
   "metadata": {},
   "outputs": [
    {
     "name": "stdout",
     "output_type": "stream",
     "text": [
      "[8, 9, 7, 15, 2, 20, 13, 24, 6, 11, 12, 4, 10, 18, 23, 3, 5, 22, 19, 14, 21, 1, 0, 16, 17, 25, 27, 29]\n"
     ]
    }
   ],
   "source": [
    "def del_dups(seq):\n",
    "    \n",
    "    seen = {}\n",
    "    pos = 0\n",
    "    for item in seq:\n",
    "        if item not in seen:\n",
    "            seen[item] = True\n",
    "            seq[pos] = item\n",
    "            pos += 1\n",
    "    del seq[pos:]\n",
    "\n",
    "lst_1 = [8, 8, 9, 9, 7, 15, 15, 2, 20, 13, 2, 24, 6, 11, 7, 12, 4, 10, 18, \n",
    "       13, 23, 11, 3, 11, 12, 10, 4, 5, 4, 22, 6, 3, 19, 14, 21, 11, 1, \n",
    "       5, 14, 8, 0, 1, 16, 5, 10, 13, 17, 1, 16, 17, 12, 6, 10, 0, 3, 9, \n",
    "       9, 3, 7, 7, 6, 6, 7, 5, 14, 18, 12, 19, 2, 8, 9, 0, 8, 4, 5,6,1,1,\n",
    "      3,3,4,4,5,5,6,6,11,11,17,17,21,21,23,23,23,25,25,27,27,29,29,29,0]\n",
    "del_dups(lst_1)\n",
    "print(lst_1)"
   ]
  },
  {
   "cell_type": "code",
   "execution_count": null,
   "metadata": {},
   "outputs": [],
   "source": [
    "#https://dev.to/chiefcode/timing-python-code-snippet-3dnk"
   ]
  },
  {
   "cell_type": "code",
   "execution_count": 16,
   "metadata": {},
   "outputs": [],
   "source": []
  },
  {
   "cell_type": "code",
   "execution_count": null,
   "metadata": {},
   "outputs": [],
   "source": [
    "print(timeit.timeit(myFunction, number=1))"
   ]
  },
  {
   "cell_type": "code",
   "execution_count": null,
   "metadata": {},
   "outputs": [],
   "source": []
  },
  {
   "cell_type": "code",
   "execution_count": null,
   "metadata": {},
   "outputs": [],
   "source": [
    "# https://www.tutorialspoint.com/generating-random-number-list-in-python"
   ]
  },
  {
   "cell_type": "code",
   "execution_count": 45,
   "metadata": {},
   "outputs": [],
   "source": [
    "import random"
   ]
  },
  {
   "cell_type": "code",
   "execution_count": 49,
   "metadata": {
    "scrolled": false
   },
   "outputs": [
    {
     "name": "stdout",
     "output_type": "stream",
     "text": [
      "[28, 37, 112, 193, 138, 118, 12, 73, 7, 188, 124, 10, 151, 189, 145, 144, 60, 140, 141, 9, 156, 199, 40, 79, 111, 22, 72, 71, 47, 20, 150, 29, 61, 177, 129, 81, 76, 110, 165, 192, 27, 64, 3, 89, 178, 26, 109, 94, 125, 95, 25, 55, 8, 142, 183, 122, 62, 161, 42, 100, 162, 160, 123, 33, 169, 91, 154, 34, 93, 198, 99, 74, 51, 83, 104, 53, 65, 137, 11, 157, 149, 23, 58, 35, 181, 45, 152, 131, 86, 172, 105, 146, 96, 115, 170, 164, 24, 90, 187, 88, 32, 119, 54, 127, 148, 14, 130, 190, 49, 78, 134, 82, 66, 67, 167, 197, 116, 132, 128, 92, 179, 136, 57, 16, 97, 176, 121, 75, 2, 5, 13, 68, 158, 36, 38, 135, 48, 185, 56, 103, 184, 1, 59, 84, 153, 107, 44, 113, 87, 120]\n"
     ]
    },
    {
     "ename": "NameError",
     "evalue": "name 'seq' is not defined",
     "output_type": "error",
     "traceback": [
      "\u001b[1;31m---------------------------------------------------------------------------\u001b[0m",
      "\u001b[1;31mNameError\u001b[0m                                 Traceback (most recent call last)",
      "\u001b[1;32m<ipython-input-49-2084a4057e42>\u001b[0m in \u001b[0;36m<module>\u001b[1;34m\u001b[0m\n\u001b[0;32m     13\u001b[0m \u001b[0mdel_dups\u001b[0m\u001b[1;33m(\u001b[0m\u001b[0mrandomlist\u001b[0m\u001b[1;33m)\u001b[0m\u001b[1;33m\u001b[0m\u001b[1;33m\u001b[0m\u001b[0m\n\u001b[0;32m     14\u001b[0m \u001b[0mprint\u001b[0m\u001b[1;33m(\u001b[0m\u001b[0mrandomlist\u001b[0m\u001b[1;33m)\u001b[0m\u001b[1;33m\u001b[0m\u001b[1;33m\u001b[0m\u001b[0m\n\u001b[1;32m---> 15\u001b[1;33m \u001b[0mprint\u001b[0m\u001b[1;33m(\u001b[0m\u001b[0mtimeit\u001b[0m\u001b[1;33m.\u001b[0m\u001b[0mtimeit\u001b[0m\u001b[1;33m(\u001b[0m\u001b[0mdel_dups\u001b[0m\u001b[1;33m(\u001b[0m\u001b[0mseq\u001b[0m\u001b[1;33m)\u001b[0m\u001b[1;33m,\u001b[0m \u001b[0mnumber\u001b[0m\u001b[1;33m=\u001b[0m\u001b[1;36m1\u001b[0m\u001b[1;33m)\u001b[0m\u001b[1;33m)\u001b[0m\u001b[1;33m\u001b[0m\u001b[1;33m\u001b[0m\u001b[0m\n\u001b[0m\u001b[0;32m     16\u001b[0m \u001b[1;33m\u001b[0m\u001b[0m\n\u001b[0;32m     17\u001b[0m \u001b[1;33m\u001b[0m\u001b[0m\n",
      "\u001b[1;31mNameError\u001b[0m: name 'seq' is not defined"
     ]
    }
   ],
   "source": [
    "def del_dups(seq):\n",
    "    \n",
    "    seen = {}\n",
    "    pos = 0\n",
    "    for item in seq:\n",
    "        if item not in seen:\n",
    "            seen[item] = True\n",
    "            seq[pos] = item\n",
    "            pos += 1\n",
    "    del seq[pos:]\n",
    "\n",
    "randomlist = random.sample(range(1, 200), 150)\n",
    "del_dups(randomlist)\n",
    "print(randomlist)\n",
    "print(timeit.timeit(, number=1))\n",
    "\n",
    "\n",
    "\n"
   ]
  },
  {
   "cell_type": "code",
   "execution_count": 3,
   "metadata": {},
   "outputs": [
    {
     "name": "stdout",
     "output_type": "stream",
     "text": [
      "duplicate present\n"
     ]
    }
   ],
   "source": [
    "#Below is the program with O(n2) complexity:\n",
    "\n",
    "# program to check the presence of duplicates in the file\n",
    "lst = [x for x in range(10000)]\n",
    "lst.append(9999) # to insure the duplicate element is present\n",
    "\n",
    "# O(n2) program\n",
    "for i in range(0, len(lst)  - 1):\n",
    "    for j in range(i + 1, len(lst)):\n",
    "        if(lst[i] == lst[j]) :\n",
    "            print(\"duplicate present\")\n",
    "            break"
   ]
  },
  {
   "cell_type": "code",
   "execution_count": 5,
   "metadata": {},
   "outputs": [
    {
     "name": "stdout",
     "output_type": "stream",
     "text": [
      "duplicate present\n"
     ]
    }
   ],
   "source": [
    "#Below is the program with O(n) complexity:\n",
    "\n",
    "# program to check the presence of duplicates in the file\n",
    "lst = [x for x in range(10000)]\n",
    "lst.append(9999) # to insure the duplicate element is present\n",
    "\n",
    "# O(n) program\n",
    "check_elmnt= [0 for i in range(10000 + 1)] # maintaining the array to check if the element is present or not in the list\n",
    "\n",
    "for i in range(0, len(lst)):\n",
    "    if check_elmnt[lst[i]] == 0:\n",
    "         check_elmnt[lst[i]] = 1;\n",
    "    else :\n",
    "        print(\"duplicate present\")\n",
    "        break\n"
   ]
  },
  {
   "cell_type": "code",
   "execution_count": 1,
   "metadata": {},
   "outputs": [],
   "source": [
    "import timeit\n",
    "import time"
   ]
  },
  {
   "cell_type": "code",
   "execution_count": 2,
   "metadata": {},
   "outputs": [
    {
     "name": "stdout",
     "output_type": "stream",
     "text": [
      "duplicate present\n",
      "5.036530800000008\n"
     ]
    }
   ],
   "source": [
    "def  On2():\n",
    "    lst = [x for x in range(10000)]\n",
    "    lst.append(9999)\n",
    "    for i in range(0, len(lst)  - 1):\n",
    "        for j in range(i + 1, len(lst)):\n",
    "            if(lst[i] == lst[j]) :\n",
    "                print(\"duplicate present\")\n",
    "                break\n",
    "print(timeit.timeit(stmt='On2()', setup='from __main__ import On2', number=1))"
   ]
  },
  {
   "cell_type": "code",
   "execution_count": null,
   "metadata": {},
   "outputs": [],
   "source": []
  },
  {
   "cell_type": "code",
   "execution_count": null,
   "metadata": {},
   "outputs": [],
   "source": [
    "import timeit\n",
    "import time"
   ]
  },
  {
   "cell_type": "code",
   "execution_count": 3,
   "metadata": {},
   "outputs": [
    {
     "name": "stdout",
     "output_type": "stream",
     "text": [
      "0.0007577999999739404\n"
     ]
    }
   ],
   "source": [
    "def ON():\n",
    "    lst = [x for x in range(10000)]\n",
    "    lst.append(9999)\n",
    "    check_elmnt= [0 for i in range(10000 + 1)]\n",
    "    for i in range(0, len(lst)):\n",
    "        if check_elmnt[lst[i]] == 0:\n",
    "         check_elmnt[lst[i]] = 1;\n",
    "        else :\n",
    "          print(\"duplicate present\")\n",
    "        break\n",
    "\n",
    "print(timeit.timeit(stmt='ON()', setup='from __main__ import ON', number=1))"
   ]
  },
  {
   "cell_type": "code",
   "execution_count": null,
   "metadata": {},
   "outputs": [],
   "source": []
  },
  {
   "cell_type": "markdown",
   "metadata": {},
   "source": [
    "## HOMEWORK-5"
   ]
  },
  {
   "cell_type": "markdown",
   "metadata": {},
   "source": [
    "###  first will take n^k where n is the number of elements in the list and k is total list since we are accessing the all elements\n"
   ]
  },
  {
   "cell_type": "code",
   "execution_count": 1,
   "metadata": {},
   "outputs": [],
   "source": [
    "# minimum from list of list\n",
    "\n",
    "def findMinimum(num):\n",
    "    minimum=9999\n",
    "    for i in range(len(num)):\n",
    "        for j in range(len(num[i])):\n",
    "            if minimum>num[i][j]:\n",
    "                minimum=num[i][j]\n",
    "                return minimum"
   ]
  },
  {
   "cell_type": "code",
   "execution_count": 2,
   "metadata": {},
   "outputs": [
    {
     "name": "stdout",
     "output_type": "stream",
     "text": [
      "Minimum using linear search:  5\n"
     ]
    }
   ],
   "source": [
    "num=[[5,2,31,9],[2,1,6,7,11],[55,1,7,8,9]]\n",
    "print('Minimum using linear search: ',findMinimum(num))"
   ]
  },
  {
   "cell_type": "markdown",
   "metadata": {},
   "source": [
    "### for second question we are sorting each list and one list will take to sort nlogn time so to sort all list it will take knlogn as there are k list to sort. and now to compare all elements with zeroth element of every ;list will take k time so  knlogn+k so overall time complexity =knlogn.\n"
   ]
  },
  {
   "cell_type": "code",
   "execution_count": 3,
   "metadata": {},
   "outputs": [],
   "source": [
    "def findMinUsingSorting(num):\n",
    "    minimum=999999999\n",
    "    for i in range(len(num)):\n",
    "        num[i].sort()\n",
    "        if minimum>num[i][0]:\n",
    "            minimum=num[i][0]\n",
    "            return minimum"
   ]
  },
  {
   "cell_type": "code",
   "execution_count": 4,
   "metadata": {},
   "outputs": [
    {
     "name": "stdout",
     "output_type": "stream",
     "text": [
      "Minimum using sorting:  2\n"
     ]
    }
   ],
   "source": [
    "num=[[5,2,31,9],[2,1,6,7,11],[55,1,7,8,9]]\n",
    "\n",
    "print('Minimum using sorting: ',findMinUsingSorting(num))"
   ]
  },
  {
   "cell_type": "code",
   "execution_count": 6,
   "metadata": {},
   "outputs": [
    {
     "name": "stdout",
     "output_type": "stream",
     "text": [
      "Minimum using linear search:  17\n",
      "Minimum using sorting:  2\n"
     ]
    }
   ],
   "source": [
    "import numpy as np\n",
    "matrix = np.random.randint(2,20, size=(50,50))\n",
    "\n",
    "print('Minimum using linear search: ',findMinimum(matrix))\n",
    "print('Minimum using sorting: ',findMinUsingSorting(matrix))"
   ]
  },
  {
   "cell_type": "code",
   "execution_count": null,
   "metadata": {},
   "outputs": [],
   "source": []
  },
  {
   "cell_type": "markdown",
   "metadata": {},
   "source": [
    "### Work Place"
   ]
  },
  {
   "cell_type": "code",
   "execution_count": null,
   "metadata": {},
   "outputs": [],
   "source": []
  },
  {
   "cell_type": "code",
   "execution_count": 26,
   "metadata": {},
   "outputs": [],
   "source": [
    "import numpy as np\n",
    "import timeit\n",
    "import time"
   ]
  },
  {
   "cell_type": "markdown",
   "metadata": {},
   "source": [
    "## O(N^k) notation..   with list of list\n",
    "### In the belowe code we are using two loops one inside the other so time complexity will be O(nk)where k=2."
   ]
  },
  {
   "cell_type": "code",
   "execution_count": 28,
   "metadata": {},
   "outputs": [
    {
     "name": "stdout",
     "output_type": "stream",
     "text": [
      "1\n",
      "2.7000000955013093e-06\n"
     ]
    }
   ],
   "source": [
    "num_list = [[5,2,31,9],[2,1,6,7,11],[55,1,7,8,9]]\n",
    "def minElement(num_list):\n",
    "    minimum = min(num_list[0])\n",
    "    for i in num_list:\n",
    "        mini = min(i)\n",
    "        if minimum > mini:\n",
    "            minimum = mini\n",
    "            return minimum\n",
    "print(minElement(num_list))\n",
    "print(timeit.timeit(stmt='minElement(\"num_list\")', setup='from __main__ import minElement', number=1))"
   ]
  },
  {
   "cell_type": "markdown",
   "metadata": {},
   "source": [
    "### I converted the list you gave to matrix."
   ]
  },
  {
   "cell_type": "code",
   "execution_count": 29,
   "metadata": {},
   "outputs": [
    {
     "name": "stdout",
     "output_type": "stream",
     "text": [
      "1\n",
      "2.699999868127634e-06\n"
     ]
    }
   ],
   "source": [
    "num_list_matrix = np.asarray(num_list)\n",
    "def minElementMatrix(num_list_matrix):\n",
    "    minimum = min(num_list_matrix[0])\n",
    "    for i in num_list_matrix:\n",
    "        mini = min(i)\n",
    "        if minimum > mini:\n",
    "            minimum = mini\n",
    "            return minimum\n",
    "print(minElement(num_list_matrix))\n",
    "print(timeit.timeit(stmt='minElementMatrix(\"num_list_matrix\")', setup='from __main__ import minElementMatrix', number=1))"
   ]
  },
  {
   "cell_type": "code",
   "execution_count": 30,
   "metadata": {},
   "outputs": [
    {
     "name": "stdout",
     "output_type": "stream",
     "text": [
      "[list([5, 2, 31, 9]) list([2, 1, 6, 7, 11]) list([55, 1, 7, 8, 9])]\n",
      "(3,)\n"
     ]
    },
    {
     "data": {
      "text/plain": [
       "numpy.ndarray"
      ]
     },
     "execution_count": 30,
     "metadata": {},
     "output_type": "execute_result"
    }
   ],
   "source": [
    "print(num_list_matrix)\n",
    "print(num_list_matrix.shape)\n",
    "type(num_list_matrix)"
   ]
  },
  {
   "cell_type": "code",
   "execution_count": null,
   "metadata": {},
   "outputs": [],
   "source": []
  },
  {
   "cell_type": "code",
   "execution_count": null,
   "metadata": {},
   "outputs": [],
   "source": []
  },
  {
   "cell_type": "markdown",
   "metadata": {},
   "source": [
    "## Q-3\n",
    "## O(N^k)\n",
    "## I would create a 50x50 matrix"
   ]
  },
  {
   "cell_type": "code",
   "execution_count": 32,
   "metadata": {},
   "outputs": [
    {
     "name": "stdout",
     "output_type": "stream",
     "text": [
      "(50, 50)\n"
     ]
    },
    {
     "data": {
      "text/plain": [
       "numpy.ndarray"
      ]
     },
     "execution_count": 32,
     "metadata": {},
     "output_type": "execute_result"
    }
   ],
   "source": [
    "import random\n",
    "np.random.seed(41)\n",
    "matrix_50 = np.random.randint(1,20, size=(50,50))\n",
    "print(matrix_50.shape)\n",
    "type(matrix_50)\n"
   ]
  },
  {
   "cell_type": "code",
   "execution_count": null,
   "metadata": {},
   "outputs": [],
   "source": []
  },
  {
   "cell_type": "code",
   "execution_count": 17,
   "metadata": {},
   "outputs": [
    {
     "name": "stdout",
     "output_type": "stream",
     "text": [
      "None\n",
      "4.400000022997119e-06\n"
     ]
    }
   ],
   "source": [
    "import timeit\n",
    "import time\n",
    "import numpy as np\n",
    "matrix_50\n",
    "\n",
    "def minElement(matrix_50):\n",
    "    minimum = min(matrix_50[0])\n",
    "    for i in matrix_50:\n",
    "        mini = min(i)\n",
    "        if minimum > mini:\n",
    "            minimum = mini\n",
    "            return minimum\n",
    "print(minElement(matrix_50))\n",
    "print(timeit.timeit(stmt='minElement(\"matrix_50\")', setup='from __main__ import minElement', number=1))"
   ]
  },
  {
   "cell_type": "markdown",
   "metadata": {},
   "source": [
    "### and did not give the smallest value here  WHY?"
   ]
  },
  {
   "cell_type": "code",
   "execution_count": null,
   "metadata": {},
   "outputs": [],
   "source": []
  },
  {
   "cell_type": "markdown",
   "metadata": {},
   "source": [
    "## Q-2\n",
    "### O(NlogN)"
   ]
  },
  {
   "cell_type": "markdown",
   "metadata": {},
   "source": [
    " To improve the time complexity we will sort each list using sorting with O(nlogn) time complexity\n",
    "\n",
    " we will take the first element of each nested list ( we used the Extract() function in below code) and find minimum which will take O(n) time so overall time complexity will be O(nlogn) + O(n) = O(nlogn) as O(n) is smaller so we remove that part."
   ]
  },
  {
   "cell_type": "code",
   "execution_count": 14,
   "metadata": {},
   "outputs": [
    {
     "name": "stdout",
     "output_type": "stream",
     "text": [
      "1\n",
      "2.300000005561742e-06\n"
     ]
    }
   ],
   "source": [
    "import timeit\n",
    "import time\n",
    "num_list = [[5,2,31,9],[2,1,6,7,11],[55,1,7,8,9]]\n",
    "for i in num_list:\n",
    "    i.sort()\n",
    "def FirstONlogN(num_list):\n",
    "    return [item[0] for item in num_list]\n",
    "\n",
    "minimum = min(FirstONlogN(num_list))\n",
    "print(minimum)\n",
    "print(timeit.timeit(stmt='FirstONlogN(\"num_list\")', setup='from __main__ import FirstONlogN', number=1))"
   ]
  },
  {
   "cell_type": "markdown",
   "metadata": {},
   "source": [
    "### I would convert list of list to matrix"
   ]
  },
  {
   "cell_type": "code",
   "execution_count": 35,
   "metadata": {},
   "outputs": [
    {
     "name": "stdout",
     "output_type": "stream",
     "text": [
      "1\n",
      "2.999999651365215e-06\n",
      "Wall time: 0 ns\n"
     ]
    }
   ],
   "source": [
    "%%time\n",
    "import timeit\n",
    "import time\n",
    "import numpy as np\n",
    "num_list_matrix = np.asarray(num_list)\n",
    "\n",
    "for i in num_list_matrix:\n",
    "    i.sort()\n",
    "def FirstONlogN(num_list_matrix):\n",
    "    return [item[0] for item in num_list_matrix]\n",
    "\n",
    "minimum = min(FirstONlogN(num_list_matrix))\n",
    "print(minimum)\n",
    "print(timeit.timeit(stmt='FirstONlogN(\"num_list_matrix\")', setup='from __main__ import FirstONlogN', number=1))"
   ]
  },
  {
   "cell_type": "code",
   "execution_count": null,
   "metadata": {},
   "outputs": [],
   "source": []
  },
  {
   "cell_type": "markdown",
   "metadata": {},
   "source": [
    "### Q-3\n",
    "###  O(NlogN) with matrix(50x50) "
   ]
  },
  {
   "cell_type": "code",
   "execution_count": 38,
   "metadata": {},
   "outputs": [
    {
     "name": "stdout",
     "output_type": "stream",
     "text": [
      "[[18  2  3 ... 11 15 14]\n",
      " [15 19 19 ...  5 14 14]\n",
      " [ 6 10 11 ... 15  4 11]\n",
      " ...\n",
      " [17 15  6 ... 15 15  9]\n",
      " [ 4  7 16 ...  4  1  4]\n",
      " [ 6  2  1 ...  8  9 19]]\n",
      "(50, 50)\n"
     ]
    },
    {
     "data": {
      "text/plain": [
       "numpy.ndarray"
      ]
     },
     "execution_count": 38,
     "metadata": {},
     "output_type": "execute_result"
    }
   ],
   "source": [
    "matrix = np.random.randint(1,20, size=(50,50))\n",
    "print(matrix)\n",
    "print(matrix.shape)\n",
    "type(matrix)"
   ]
  },
  {
   "cell_type": "code",
   "execution_count": null,
   "metadata": {},
   "outputs": [],
   "source": []
  },
  {
   "cell_type": "code",
   "execution_count": null,
   "metadata": {},
   "outputs": [],
   "source": []
  },
  {
   "cell_type": "code",
   "execution_count": 43,
   "metadata": {},
   "outputs": [
    {
     "name": "stdout",
     "output_type": "stream",
     "text": [
      "1\n",
      "2.8999997994105797e-06\n",
      "Wall time: 1.99 ms\n"
     ]
    }
   ],
   "source": [
    "%%time\n",
    "import timeit\n",
    "import time\n",
    "import numpy as np\n",
    "matrix = np.array(np.random.randint(1,20, size=(50,50)))\n",
    "for i in matrix:\n",
    "    i.sort()\n",
    "def FirstONlogN(matrix):\n",
    "    return [item[0] for item in matrix]\n",
    "\n",
    "minimum = min(FirstONlogN(matrix))\n",
    "print(minimum)\n",
    "print(timeit.timeit(stmt='FirstONlogN(\"matrix\")', setup='from __main__ import FirstONlogN', number=1))"
   ]
  },
  {
   "cell_type": "code",
   "execution_count": null,
   "metadata": {},
   "outputs": [],
   "source": []
  },
  {
   "cell_type": "code",
   "execution_count": null,
   "metadata": {},
   "outputs": [],
   "source": []
  },
  {
   "cell_type": "code",
   "execution_count": null,
   "metadata": {},
   "outputs": [],
   "source": []
  },
  {
   "cell_type": "code",
   "execution_count": 19,
   "metadata": {},
   "outputs": [
    {
     "data": {
      "text/plain": [
       "array([[0., 0., 0., ..., 0., 0., 0.],\n",
       "       [0., 0., 0., ..., 0., 0., 0.],\n",
       "       [0., 0., 0., ..., 0., 0., 0.],\n",
       "       ...,\n",
       "       [0., 0., 0., ..., 0., 0., 0.],\n",
       "       [0., 0., 0., ..., 0., 0., 0.],\n",
       "       [0., 0., 0., ..., 0., 0., 0.]])"
      ]
     },
     "execution_count": 19,
     "metadata": {},
     "output_type": "execute_result"
    }
   ],
   "source": [
    "import numpy as np\n",
    "matrix_z = np.zeros((50,50))\n",
    "matrix_z"
   ]
  },
  {
   "cell_type": "code",
   "execution_count": 20,
   "metadata": {},
   "outputs": [
    {
     "data": {
      "text/plain": [
       "numpy.ndarray"
      ]
     },
     "execution_count": 20,
     "metadata": {},
     "output_type": "execute_result"
    }
   ],
   "source": [
    "type(matrix_z)"
   ]
  },
  {
   "cell_type": "code",
   "execution_count": 2,
   "metadata": {},
   "outputs": [
    {
     "name": "stdout",
     "output_type": "stream",
     "text": [
      "0.0\n",
      "1.7000002117129043e-06\n"
     ]
    }
   ],
   "source": [
    "import timeit\n",
    "import time\n",
    "import numpy as np\n",
    "matrix_z = np.zeros((50,50))\n",
    "\n",
    "\n",
    "def minElement(matrix_z):\n",
    "    minimum = min(matrix_z[0])\n",
    "    for i in matrix_z:\n",
    "        return minimum\n",
    "    mini = min(i)\n",
    "    if minimum > mini:\n",
    "        minimum = mini\n",
    "            \n",
    "print(minElement(matrix_z))\n",
    "print(timeit.timeit(stmt='minElement(\"matrix_z\")', setup='from __main__ import minElement', number=1))"
   ]
  },
  {
   "cell_type": "code",
   "execution_count": 52,
   "metadata": {},
   "outputs": [],
   "source": [
    "#import numpy\n",
    "#i = 50\n",
    "#matrix = numpy.zeros(shape=(i,i))\n",
    "#for i in range(5):\n",
    "  #  matrix[0][i] = i+1\n",
    "  #  matrix[i][0] = i+1\n",
    "#print(matrix)"
   ]
  },
  {
   "cell_type": "markdown",
   "metadata": {},
   "source": [
    "matrix=[]\n",
    "\n",
    "for i in range(50):\n",
    "    row=[] \n",
    "    for j in range(50):\n",
    "        row.append(0)\n",
    "        matrix.append(row)\n",
    "        return matrix\n",
    "    \n",
    "#print(matrix)"
   ]
  },
  {
   "cell_type": "code",
   "execution_count": null,
   "metadata": {},
   "outputs": [],
   "source": []
  },
  {
   "cell_type": "code",
   "execution_count": 56,
   "metadata": {},
   "outputs": [
    {
     "name": "stdout",
     "output_type": "stream",
     "text": [
      "None\n"
     ]
    }
   ],
   "source": [
    "import numpy as np\n",
    "\n",
    "def minElement(matrix):\n",
    "    minimum = min(matrix[0])\n",
    "    for i in matrix:\n",
    "        mini = min(i)\n",
    "        if minimum > mini:\n",
    "            minimum = mini\n",
    "            return minimum\n",
    "print(minElement(matrix))"
   ]
  },
  {
   "cell_type": "code",
   "execution_count": 57,
   "metadata": {},
   "outputs": [
    {
     "name": "stdout",
     "output_type": "stream",
     "text": [
      "1\n"
     ]
    }
   ],
   "source": [
    "import numpy as np\n",
    "\n",
    "for i in matrix :\n",
    "    i.sort()\n",
    "def FirstExtract(matrix ):\n",
    "    return [item[0] for item in matrix ]\n",
    "\n",
    "minimum = min(FirstExtract(matrix))\n",
    "print(minimum)"
   ]
  },
  {
   "cell_type": "code",
   "execution_count": null,
   "metadata": {},
   "outputs": [],
   "source": []
  },
  {
   "cell_type": "markdown",
   "metadata": {},
   "source": [
    "### Timing"
   ]
  },
  {
   "cell_type": "code",
   "execution_count": 7,
   "metadata": {},
   "outputs": [
    {
     "name": "stdout",
     "output_type": "stream",
     "text": [
      "this code is to demonstration time complexity!\n",
      "Wall time: 0 ns\n"
     ]
    }
   ],
   "source": [
    "%%time\n",
    "print(\"this code is to demonstration time complexity!\")"
   ]
  },
  {
   "cell_type": "code",
   "execution_count": 8,
   "metadata": {},
   "outputs": [
    {
     "name": "stdout",
     "output_type": "stream",
     "text": [
      "this code demonstration time complexity!\n",
      "this code demonstration time complexity!\n",
      "this code demonstration time complexity!\n",
      "this code demonstration time complexity!\n",
      "this code demonstration time complexity!\n",
      "this code demonstration time complexity!\n",
      "this code demonstration time complexity!\n",
      "this code demonstration time complexity!\n",
      "this code demonstration time complexity!\n",
      "this code demonstration time complexity!\n",
      "Wall time: 4 ms\n"
     ]
    }
   ],
   "source": [
    "%%time \n",
    "for i in range(10):\n",
    "    print(\"this code demonstration time complexity!\")"
   ]
  },
  {
   "cell_type": "markdown",
   "metadata": {},
   "source": [
    "### Convert a list of numbers to a matrix"
   ]
  },
  {
   "cell_type": "code",
   "execution_count": 7,
   "metadata": {},
   "outputs": [
    {
     "data": {
      "text/plain": [
       "array([list([5, 2, 31, 9]), list([2, 1, 6, 7, 11]),\n",
       "       list([55, 1, 7, 8, 9])], dtype=object)"
      ]
     },
     "execution_count": 7,
     "metadata": {},
     "output_type": "execute_result"
    }
   ],
   "source": [
    "A = np.asarray(num_list)\n",
    "A"
   ]
  },
  {
   "cell_type": "code",
   "execution_count": 8,
   "metadata": {},
   "outputs": [
    {
     "data": {
      "text/plain": [
       "numpy.ndarray"
      ]
     },
     "execution_count": 8,
     "metadata": {},
     "output_type": "execute_result"
    }
   ],
   "source": [
    "type(A)"
   ]
  },
  {
   "cell_type": "code",
   "execution_count": 9,
   "metadata": {},
   "outputs": [
    {
     "data": {
      "text/plain": [
       "(3,)"
      ]
     },
     "execution_count": 9,
     "metadata": {},
     "output_type": "execute_result"
    }
   ],
   "source": [
    "A.shape"
   ]
  },
  {
   "cell_type": "code",
   "execution_count": 10,
   "metadata": {},
   "outputs": [
    {
     "data": {
      "text/plain": [
       "dtype('O')"
      ]
     },
     "execution_count": 10,
     "metadata": {},
     "output_type": "execute_result"
    }
   ],
   "source": [
    "A.dtype"
   ]
  },
  {
   "cell_type": "code",
   "execution_count": 15,
   "metadata": {},
   "outputs": [],
   "source": [
    "empty_array = np.empty((50,50), dtype=int)"
   ]
  },
  {
   "cell_type": "code",
   "execution_count": 17,
   "metadata": {},
   "outputs": [
    {
     "name": "stdout",
     "output_type": "stream",
     "text": [
      "[[-1979121616         538 -1994508736 ...           0           0\n",
      "            0]\n",
      " [          0           0           0 ...           0           0\n",
      "            0]\n",
      " [          0           0           0 ...           0           0\n",
      "            0]\n",
      " ...\n",
      " [          0           0           0 ...           0           0\n",
      "            0]\n",
      " [          0           0           0 ...           0           0\n",
      "            0]\n",
      " [          0           0           0 ...           0           0\n",
      "            0]]\n"
     ]
    },
    {
     "data": {
      "text/plain": [
       "numpy.ndarray"
      ]
     },
     "execution_count": 17,
     "metadata": {},
     "output_type": "execute_result"
    }
   ],
   "source": [
    "print(empty_array)\n",
    "type(empty_array)"
   ]
  },
  {
   "cell_type": "markdown",
   "metadata": {},
   "source": [
    "### Discussion 5"
   ]
  },
  {
   "cell_type": "code",
   "execution_count": 1,
   "metadata": {},
   "outputs": [
    {
     "name": "stdout",
     "output_type": "stream",
     "text": [
      "7\n"
     ]
    }
   ],
   "source": [
    "import timeit\n",
    "import time\n",
    "import numpy as np\n",
    "def binary_search(data, value):\n",
    "    n = len(data)\n",
    "    left = 0\n",
    "    right = n - 1\n",
    "    while left <= right:\n",
    "        middle = (left + right) // 2\n",
    "        if value < data[middle]:\n",
    "            right = middle - 1\n",
    "        elif value > data[middle]:\n",
    "            left = middle + 1\n",
    "        else:\n",
    "            return middle\n",
    "    raise ValueError('Value is not in the list')\n",
    "    \n",
    "if __name__ == '__main__':\n",
    "    data = [1, 2, 3, 4, 5, 6, 7, 8, 9]\n",
    "    print(binary_search(data, 8))\n",
    "    print(timeit.timeit(stmt='binary_search('data', 'value')', setup='from __main__ import binary_search', number=1))"
   ]
  },
  {
   "cell_type": "markdown",
   "metadata": {},
   "source": [
    "## Homework-5"
   ]
  },
  {
   "cell_type": "code",
   "execution_count": 5,
   "metadata": {},
   "outputs": [
    {
     "name": "stdout",
     "output_type": "stream",
     "text": [
      "7 6 4 3 2 1 \n",
      "7 6 5 3 2 \n",
      "7 6 5 4 1 \n",
      "8 5 4 3 2 1 \n",
      "8 6 4 3 2 \n",
      "8 6 5 3 1 \n",
      "8 6 5 4 \n",
      "8 7 4 3 1 \n",
      "8 7 5 2 1 \n",
      "8 7 5 3 \n",
      "8 7 6 2 \n",
      "9 5 4 3 2 \n",
      "9 6 4 3 1 \n",
      "9 6 5 2 1 \n",
      "9 6 5 3 \n",
      "9 7 4 2 1 \n",
      "9 7 4 3 \n",
      "9 7 5 2 \n",
      "9 7 6 1 \n",
      "9 8 3 2 1 \n",
      "9 8 4 2 \n",
      "9 8 5 1 \n",
      "9 8 6 \n",
      "10 5 4 3 1 \n",
      "10 6 4 2 1 \n",
      "10 6 4 3 \n",
      "10 6 5 2 \n",
      "10 7 3 2 1 \n",
      "10 7 4 2 \n",
      "10 7 5 1 \n",
      "10 7 6 \n",
      "10 8 3 2 \n",
      "10 8 4 1 \n",
      "10 8 5 \n",
      "10 9 3 1 \n",
      "10 9 4 \n",
      "11 5 4 2 1 \n",
      "11 5 4 3 \n",
      "11 6 3 2 1 \n",
      "11 6 4 2 \n",
      "11 6 5 1 \n",
      "11 7 3 2 \n",
      "11 7 4 1 \n",
      "11 7 5 \n",
      "11 8 3 1 \n",
      "11 8 4 \n",
      "11 9 2 1 \n",
      "11 9 3 \n",
      "11 10 2 \n",
      "12 5 3 2 1 \n",
      "12 5 4 2 \n",
      "12 6 3 2 \n",
      "12 6 4 1 \n",
      "12 6 5 \n",
      "12 7 3 1 \n",
      "12 7 4 \n",
      "12 8 2 1 \n",
      "12 8 3 \n",
      "12 9 2 \n",
      "12 10 1 \n",
      "12 11 \n",
      "13 4 3 2 1 \n",
      "13 5 3 2 \n",
      "13 5 4 1 \n",
      "13 6 3 1 \n",
      "13 6 4 \n",
      "13 7 2 1 \n",
      "13 7 3 \n",
      "13 8 2 \n",
      "13 9 1 \n",
      "13 10 \n",
      "14 4 3 2 \n",
      "14 5 3 1 \n",
      "14 5 4 \n",
      "14 6 2 1 \n",
      "14 6 3 \n",
      "14 7 2 \n",
      "14 8 1 \n",
      "14 9 \n",
      "15 4 3 1 \n",
      "15 5 2 1 \n",
      "15 5 3 \n",
      "15 6 2 \n",
      "15 7 1 \n",
      "15 8 \n",
      "16 4 2 1 \n",
      "16 4 3 \n",
      "16 5 2 \n",
      "16 6 1 \n",
      "16 7 \n",
      "17 3 2 1 \n",
      "17 4 2 \n",
      "17 5 1 \n",
      "17 6 \n",
      "18 3 2 \n",
      "18 4 1 \n",
      "18 5 \n",
      "19 3 1 \n",
      "19 4 \n",
      "20 2 1 \n",
      "20 3 \n"
     ]
    }
   ],
   "source": [
    "def AllSubsets_Rec(arr, n, v, sum):\n",
    "    if (sum == 0):\n",
    "        for value in v :\n",
    "            print(value, end=\" \")\n",
    "        print()\n",
    "        return\n",
    "    if (n == 0):\n",
    "        return\n",
    "        \n",
    "    AllSubsets_Rec(arr, n - 1, v, sum)\n",
    "        \n",
    "    v1 = [] + v\n",
    "    v1.append(arr[n - 1])\n",
    "    AllSubsets_Rec(arr, n - 1, v1, sum - arr[n - 1])\n",
    "        \n",
    "        \n",
    "def All_Subsets(arr, n, sum):\n",
    "    v = []\n",
    "    AllSubsets_Rec(arr, n, v, sum)\n",
    "arr = [1,2,3,4,5,6,7,8,9,10,11,12,13,14,15,16,17,18,19,20]\n",
    "\n",
    "sum = 23\n",
    "\n",
    "n = len(arr)\n",
    "\n",
    "All_Subsets(arr, n, sum)\n",
    "        "
   ]
  },
  {
   "cell_type": "code",
   "execution_count": null,
   "metadata": {},
   "outputs": [],
   "source": []
  },
  {
   "cell_type": "code",
   "execution_count": null,
   "metadata": {},
   "outputs": [],
   "source": []
  },
  {
   "cell_type": "code",
   "execution_count": null,
   "metadata": {},
   "outputs": [],
   "source": []
  },
  {
   "cell_type": "code",
   "execution_count": null,
   "metadata": {},
   "outputs": [],
   "source": [
    "def AllSubsetsRec(array, sum_, partial=[]):\n",
    "    a=[]\n",
    "    s = 0\n",
    "    for i in partial:\n",
    "        s+=i\n",
    "   \n",
    "   # check if the partial sum is equals to desired sum 23\n",
    "   if s == sum_: \n",
    "       a.append(partial)\n",
    "       print(a)\n",
    "   \n",
    "   if s >= sum_:\n",
    "       return  # if we reach the number why we will  return back  \n",
    "   \n",
    "   for i in range(len(array)):\n",
    "       n = array[i] # here it will take one number from array and try to add numbers in partial till we find the sum\n",
    "       remaining = array[i+1:]\n",
    "       pairs_sum(remaining, sum_, partial + [n]) # here recusion is used\n",
    "   \n",
    "\n",
    "\n",
    "pairs_sum([1,2,3,4,5,6,7,8,9,10,11,12,13,14,15,16,17,18,19,20],23)"
   ]
  },
  {
   "cell_type": "code",
   "execution_count": 11,
   "metadata": {},
   "outputs": [
    {
     "name": "stdout",
     "output_type": "stream",
     "text": [
      "[[1, 2, 3, 4, 5, 8]]\n",
      "[[1, 2, 3, 4, 6, 7]]\n",
      "[[1, 2, 3, 4, 13]]\n",
      "[[1, 2, 3, 5, 12]]\n",
      "[[1, 2, 3, 6, 11]]\n",
      "[[1, 2, 3, 7, 10]]\n",
      "[[1, 2, 3, 8, 9]]\n",
      "[[1, 2, 3, 17]]\n",
      "[[1, 2, 4, 5, 11]]\n",
      "[[1, 2, 4, 6, 10]]\n",
      "[[1, 2, 4, 7, 9]]\n",
      "[[1, 2, 4, 16]]\n",
      "[[1, 2, 5, 6, 9]]\n",
      "[[1, 2, 5, 7, 8]]\n",
      "[[1, 2, 5, 15]]\n",
      "[[1, 2, 6, 14]]\n",
      "[[1, 2, 7, 13]]\n",
      "[[1, 2, 8, 12]]\n",
      "[[1, 2, 9, 11]]\n",
      "[[1, 2, 20]]\n",
      "[[1, 3, 4, 5, 10]]\n",
      "[[1, 3, 4, 6, 9]]\n",
      "[[1, 3, 4, 7, 8]]\n",
      "[[1, 3, 4, 15]]\n",
      "[[1, 3, 5, 6, 8]]\n",
      "[[1, 3, 5, 14]]\n",
      "[[1, 3, 6, 13]]\n",
      "[[1, 3, 7, 12]]\n",
      "[[1, 3, 8, 11]]\n",
      "[[1, 3, 9, 10]]\n",
      "[[1, 3, 19]]\n",
      "[[1, 4, 5, 6, 7]]\n",
      "[[1, 4, 5, 13]]\n",
      "[[1, 4, 6, 12]]\n",
      "[[1, 4, 7, 11]]\n",
      "[[1, 4, 8, 10]]\n",
      "[[1, 4, 18]]\n",
      "[[1, 5, 6, 11]]\n",
      "[[1, 5, 7, 10]]\n",
      "[[1, 5, 8, 9]]\n",
      "[[1, 5, 17]]\n",
      "[[1, 6, 7, 9]]\n",
      "[[1, 6, 16]]\n",
      "[[1, 7, 15]]\n",
      "[[1, 8, 14]]\n",
      "[[1, 9, 13]]\n",
      "[[1, 10, 12]]\n",
      "[[2, 3, 4, 5, 9]]\n",
      "[[2, 3, 4, 6, 8]]\n",
      "[[2, 3, 4, 14]]\n",
      "[[2, 3, 5, 6, 7]]\n",
      "[[2, 3, 5, 13]]\n",
      "[[2, 3, 6, 12]]\n",
      "[[2, 3, 7, 11]]\n",
      "[[2, 3, 8, 10]]\n",
      "[[2, 3, 18]]\n",
      "[[2, 4, 5, 12]]\n",
      "[[2, 4, 6, 11]]\n",
      "[[2, 4, 7, 10]]\n",
      "[[2, 4, 8, 9]]\n",
      "[[2, 4, 17]]\n",
      "[[2, 5, 6, 10]]\n",
      "[[2, 5, 7, 9]]\n",
      "[[2, 5, 16]]\n",
      "[[2, 6, 7, 8]]\n",
      "[[2, 6, 15]]\n",
      "[[2, 7, 14]]\n",
      "[[2, 8, 13]]\n",
      "[[2, 9, 12]]\n",
      "[[2, 10, 11]]\n",
      "[[3, 4, 5, 11]]\n",
      "[[3, 4, 6, 10]]\n",
      "[[3, 4, 7, 9]]\n",
      "[[3, 4, 16]]\n",
      "[[3, 5, 6, 9]]\n",
      "[[3, 5, 7, 8]]\n",
      "[[3, 5, 15]]\n",
      "[[3, 6, 14]]\n",
      "[[3, 7, 13]]\n",
      "[[3, 8, 12]]\n",
      "[[3, 9, 11]]\n",
      "[[3, 20]]\n",
      "[[4, 5, 6, 8]]\n",
      "[[4, 5, 14]]\n",
      "[[4, 6, 13]]\n",
      "[[4, 7, 12]]\n",
      "[[4, 8, 11]]\n",
      "[[4, 9, 10]]\n",
      "[[4, 19]]\n",
      "[[5, 6, 12]]\n",
      "[[5, 7, 11]]\n",
      "[[5, 8, 10]]\n",
      "[[5, 18]]\n",
      "[[6, 7, 10]]\n",
      "[[6, 8, 9]]\n",
      "[[6, 17]]\n",
      "[[7, 16]]\n",
      "[[8, 15]]\n",
      "[[9, 14]]\n",
      "[[10, 13]]\n",
      "[[11, 12]]\n"
     ]
    }
   ],
   "source": [
    "def All_Subsets_Rec(arr, _sum, part=[]):              #----------------------------->\n",
    "    a=[]                                              #----------------------------->\n",
    "    s = 0                                             #----------------------------->\n",
    "    \n",
    "    for i in part:                                    #----------------------------->\n",
    "        s+=i                                          #----------------------------->\n",
    "    if s == _sum:                                     #----------------------------->\n",
    "        a.append(part)                                #----------------------------->\n",
    "        print(a)                                      #----------------------------->\n",
    "    if s >= _sum:                                     #----------------------------->\n",
    "        return                                        #----------------------------->\n",
    "    for i in range(len(arr)):                         #----------------------------->\n",
    "        n = arr[i]                                    #----------------------------->\n",
    "        remaining= arr[i+1:]                          #----------------------------->\n",
    "        All_Subsets_Rec(remaining, _sum, part + [n])  #----------------------------->\n",
    "                \n",
    "All_Subsets_Rec([1,2,3,4,5,6,7,8,9,10,11,12,13,14,15,16,17,18,19,20],23)                "
   ]
  },
  {
   "cell_type": "code",
   "execution_count": null,
   "metadata": {},
   "outputs": [],
   "source": []
  },
  {
   "cell_type": "code",
   "execution_count": null,
   "metadata": {},
   "outputs": [],
   "source": [
    "# its complexity will be 0(n^2) \n",
    "\n",
    "#because for loop is running two times one in main code and one in recursion"
   ]
  },
  {
   "cell_type": "code",
   "execution_count": null,
   "metadata": {},
   "outputs": [],
   "source": [
    "const arr = [1, 2, 3, 4, 5, 6, 7, 8, 9, 10, 11, 12, 13, 14, 15,16,17,18,19,20]--------->O(1)\n",
    "\n",
    "/* sum: total of each subset\n",
    "   result: output triplets\n",
    "   subset: flag to dismiss used along with partial size(3), if one of them is true, returns null\n",
    "   n: each item in the array, evantuall added into partial array of 3 items\n",
    "   remaining: each item is copied into result array if total is 23\n",
    "*/\n",
    "const sum = 23--------->O(1)\n",
    "let result = null--------->O(1)\n",
    "let subset, n, remaining--------->O(1)\n",
    "\n",
    "/* numbers: Array\n",
    "   target: 23\n",
    "   partial: each item of triplets, adding each value should be equal to target\n",
    "*/\n",
    "function subset_sum(numbers, target, partial = []) {\n",
    "    \n",
    "    subset = partial.reduce( (a, b) => a + b, 0)--------->O(1)\n",
    "\n",
    "    if (subset > target || partial.length >= 20) return null--------->O(n)\n",
    "    \n",
    "    check23(subset, partial);--------->O(1)\n",
    "\n",
    "    for (let i = 0; i < numbers.length; i++) {--------->O(n)\n",
    "        n = numbers[i]\n",
    "        remaining = numbers.slice(i + 1)\n",
    "        subset_sum(remaining, target, partial.concat([n]))\n",
    "    }\n",
    "\n",
    "    return result  --------->O(1)\n",
    "}\n",
    "\n",
    "/* validate if the partial items sum equals to total 23 */\n",
    "const check23 = (subset, partial) => {\n",
    "    if (subset === 23) {\n",
    "        if(!result) \n",
    "        result = []\n",
    "        result.push(partial)\n",
    "    }\n",
    "}\n",
    "\n",
    "\n",
    "console.log(subset_sum(arr, sum))\n",
    "\n"
   ]
  },
  {
   "cell_type": "code",
   "execution_count": null,
   "metadata": {},
   "outputs": [],
   "source": [
    "Time Complexity: O(n^2) in worst case.\n",
    "Nested loop is used to traverse the array so the time complexity is O(n^2)"
   ]
  }
 ],
 "metadata": {
  "colab": {
   "collapsed_sections": [],
   "name": "Copy of Duplicate Checker.ipynb",
   "provenance": []
  },
  "kernelspec": {
   "display_name": "Python 3",
   "language": "python",
   "name": "python3"
  },
  "language_info": {
   "codemirror_mode": {
    "name": "ipython",
    "version": 3
   },
   "file_extension": ".py",
   "mimetype": "text/x-python",
   "name": "python",
   "nbconvert_exporter": "python",
   "pygments_lexer": "ipython3",
   "version": "3.8.5"
  }
 },
 "nbformat": 4,
 "nbformat_minor": 1
}
