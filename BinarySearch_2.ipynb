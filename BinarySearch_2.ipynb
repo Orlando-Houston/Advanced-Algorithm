{
 "cells": [
  {
   "cell_type": "code",
   "execution_count": 1,
   "metadata": {},
   "outputs": [
    {
     "name": "stdout",
     "output_type": "stream",
     "text": [
      "Indices of occurances of 15 are [5, 6, 7]\n"
     ]
    }
   ],
   "source": [
    "############ BINARY SEARCH EXERCISE SOLUTION: CODEBASICS YOUTUBE CHANNEL ####################\n",
    "\n",
    "################### PROBLEM 1 #######################\n",
    "#  When I try to find number 5 in below list using binary search, it doesn't work and returns me -1 index. Why is that?\n",
    "#  numbers = [1,4,6,9,10,5,7]\n",
    "#  Answer: It is because the list is not sorted! Binary search requires that list has to be sorted\n",
    "\n",
    "################### PROBLEM 2 #######################\n",
    "# Problem: Find index of all the occurances of a number from sorted list\n",
    "# Solution here tries to find an index of a number using binary search. Now since the list is sorted,\n",
    "# it can do left and right scan from the initial index to find all occurances of a given element\n",
    "# This method is not most efficient and I want you to figure out even a better way of doing it. In\n",
    "# any case below method is still effective\n",
    "\n",
    "def binary_search(numbers_list, number_to_find):\n",
    "    left_index = 0\n",
    "    right_index = len(numbers_list) - 1\n",
    "    mid_index = 0\n",
    "\n",
    "    while left_index <= right_index:\n",
    "        mid_index = (left_index + right_index) // 2\n",
    "        mid_number = numbers_list[mid_index]\n",
    "\n",
    "        if mid_number == number_to_find:\n",
    "            return mid_index\n",
    "\n",
    "        if mid_number < number_to_find: # this means number is in right hand side of the list\n",
    "            left_index = mid_index + 1\n",
    "        else: # number to find is on left hand side of the list\n",
    "            right_index = mid_index - 1\n",
    "\n",
    "    return -1\n",
    "\n",
    "def find_all_occurances(numbers, number_to_find):\n",
    "    index = binary_search(numbers, number_to_find)\n",
    "    indices = [index]\n",
    "    # find indices on left hand side\n",
    "    i = index-1\n",
    "    while i >=0:\n",
    "        if numbers[i] == number_to_find:\n",
    "            indices.append(i)\n",
    "        else:\n",
    "            break\n",
    "        i = i - 1\n",
    "\n",
    "    # find indices on right hand side\n",
    "    i = index + 1\n",
    "    while i<len(numbers):\n",
    "        if numbers[i] == number_to_find:\n",
    "            indices.append(i)\n",
    "        else:\n",
    "            break\n",
    "        i = i + 1\n",
    "\n",
    "    return sorted(indices)\n",
    "\n",
    "\n",
    "if __name__ == '__main__':\n",
    "    numbers = [1,4,6,9,11,15,15,15,17,21,34,34,56]\n",
    "    number_to_find = 15\n",
    "    indices = find_all_occurances(numbers, number_to_find)\n",
    "    print(f\"Indices of occurances of {number_to_find} are {indices}\")"
   ]
  },
  {
   "cell_type": "code",
   "execution_count": null,
   "metadata": {},
   "outputs": [],
   "source": []
  }
 ],
 "metadata": {
  "kernelspec": {
   "display_name": "Python 3",
   "language": "python",
   "name": "python3"
  },
  "language_info": {
   "codemirror_mode": {
    "name": "ipython",
    "version": 3
   },
   "file_extension": ".py",
   "mimetype": "text/x-python",
   "name": "python",
   "nbconvert_exporter": "python",
   "pygments_lexer": "ipython3",
   "version": "3.8.5"
  }
 },
 "nbformat": 4,
 "nbformat_minor": 4
}
