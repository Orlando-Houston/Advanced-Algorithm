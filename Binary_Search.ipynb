{
 "cells": [
  {
   "cell_type": "code",
   "execution_count": null,
   "metadata": {},
   "outputs": [],
   "source": []
  },
  {
   "cell_type": "code",
   "execution_count": 1,
   "metadata": {},
   "outputs": [
    {
     "name": "stdout",
     "output_type": "stream",
     "text": [
      "Note: you may need to restart the kernel to use updated packages.\n"
     ]
    },
    {
     "name": "stderr",
     "output_type": "stream",
     "text": [
      "ERROR: unknown command \"import\"\n",
      "\n"
     ]
    }
   ],
   "source": [
    "pip import util"
   ]
  },
  {
   "cell_type": "code",
   "execution_count": 2,
   "metadata": {},
   "outputs": [
    {
     "ename": "ModuleNotFoundError",
     "evalue": "No module named 'util'",
     "output_type": "error",
     "traceback": [
      "\u001b[1;31m---------------------------------------------------------------------------\u001b[0m",
      "\u001b[1;31mModuleNotFoundError\u001b[0m                       Traceback (most recent call last)",
      "\u001b[1;32m<ipython-input-2-47699577bc68>\u001b[0m in \u001b[0;36m<module>\u001b[1;34m\u001b[0m\n\u001b[1;32m----> 1\u001b[1;33m \u001b[1;32mfrom\u001b[0m \u001b[0mutil\u001b[0m \u001b[1;32mimport\u001b[0m \u001b[0mtime_it\u001b[0m\u001b[1;33m\u001b[0m\u001b[1;33m\u001b[0m\u001b[0m\n\u001b[0m\u001b[0;32m      2\u001b[0m \u001b[1;33m\u001b[0m\u001b[0m\n\u001b[0;32m      3\u001b[0m \u001b[1;33m@\u001b[0m\u001b[0mtime_it\u001b[0m\u001b[1;33m\u001b[0m\u001b[1;33m\u001b[0m\u001b[0m\n\u001b[0;32m      4\u001b[0m \u001b[1;32mdef\u001b[0m \u001b[0mlinear_search\u001b[0m\u001b[1;33m(\u001b[0m\u001b[0mnumbers_list\u001b[0m\u001b[1;33m,\u001b[0m \u001b[0mnumber_to_find\u001b[0m\u001b[1;33m)\u001b[0m\u001b[1;33m:\u001b[0m\u001b[1;33m\u001b[0m\u001b[1;33m\u001b[0m\u001b[0m\n\u001b[0;32m      5\u001b[0m     \u001b[1;32mfor\u001b[0m \u001b[0mindex\u001b[0m\u001b[1;33m,\u001b[0m \u001b[0melement\u001b[0m \u001b[1;32min\u001b[0m \u001b[0menumerate\u001b[0m\u001b[1;33m(\u001b[0m\u001b[0mnumbers_list\u001b[0m\u001b[1;33m)\u001b[0m\u001b[1;33m:\u001b[0m\u001b[1;33m\u001b[0m\u001b[1;33m\u001b[0m\u001b[0m\n",
      "\u001b[1;31mModuleNotFoundError\u001b[0m: No module named 'util'"
     ]
    }
   ],
   "source": [
    "from util import time_it\n",
    "\n",
    "@time_it\n",
    "def linear_search(numbers_list, number_to_find):\n",
    "    for index, element in enumerate(numbers_list):\n",
    "        if element == number_to_find:\n",
    "            return index\n",
    "    return -1\n",
    "\n",
    "@time_it\n",
    "def binary_search(numbers_list, number_to_find):\n",
    "    left_index = 0\n",
    "    right_index = len(numbers_list) - 1\n",
    "    mid_index = 0\n",
    "\n",
    "    while left_index <= right_index:\n",
    "        mid_index = (left_index + right_index) // 2\n",
    "        mid_number = numbers_list[mid_index]\n",
    "\n",
    "        if mid_number == number_to_find:\n",
    "            return mid_index\n",
    "\n",
    "        if mid_number < number_to_find:\n",
    "            left_index = mid_index + 1\n",
    "        else:\n",
    "            right_index = mid_index - 1\n",
    "\n",
    "    return -1\n",
    "\n",
    "def binary_search_recursive(numbers_list, number_to_find, left_index, right_index):\n",
    "    if right_index < left_index:\n",
    "        return -1\n",
    "\n",
    "    mid_index = (left_index + right_index) // 2\n",
    "    if mid_index >= len(numbers_list) or mid_index < 0:\n",
    "        return -1\n",
    "\n",
    "    mid_number = numbers_list[mid_index]\n",
    "\n",
    "    if mid_number == number_to_find:\n",
    "        return mid_index\n",
    "\n",
    "    if mid_number < number_to_find:\n",
    "        left_index = mid_index + 1\n",
    "    else:\n",
    "        right_index = mid_index - 1\n",
    "\n",
    "    return binary_search_recursive(numbers_list, number_to_find, left_index, right_index)\n",
    "\n",
    "if __name__ == '__main__':\n",
    "    numbers_list = [12, 15, 17, 19, 21, 24, 45, 67]\n",
    "    number_to_find = 21\n",
    "\n",
    "    index = binary_search_recursive(numbers_list, number_to_find, 0, len(numbers_list))\n",
    "    print(f\"Number found at index {index} using binary search\")"
   ]
  },
  {
   "cell_type": "code",
   "execution_count": null,
   "metadata": {},
   "outputs": [],
   "source": []
  }
 ],
 "metadata": {
  "kernelspec": {
   "display_name": "Python 3",
   "language": "python",
   "name": "python3"
  },
  "language_info": {
   "codemirror_mode": {
    "name": "ipython",
    "version": 3
   },
   "file_extension": ".py",
   "mimetype": "text/x-python",
   "name": "python",
   "nbconvert_exporter": "python",
   "pygments_lexer": "ipython3",
   "version": "3.8.5"
  }
 },
 "nbformat": 4,
 "nbformat_minor": 4
}
