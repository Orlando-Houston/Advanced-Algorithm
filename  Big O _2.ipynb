{
 "cells": [
  {
   "cell_type": "markdown",
   "metadata": {},
   "source": [
    "*  https://github.com/pberkes/big_O\n",
    "*  A Gentle Introduction to Model Selection for Machine Learning"
   ]
  },
  {
   "cell_type": "code",
   "execution_count": 2,
   "metadata": {},
   "outputs": [
    {
     "name": "stdout",
     "output_type": "stream",
     "text": [
      "Requirement already satisfied: big-O in c:\\anaconda\\lib\\site-packages (0.10.1)\n",
      "Requirement already satisfied: numpy in c:\\anaconda\\lib\\site-packages (from big-O) (1.19.2)\n"
     ]
    }
   ],
   "source": [
    "!pip install big-O"
   ]
  },
  {
   "cell_type": "code",
   "execution_count": 2,
   "metadata": {},
   "outputs": [],
   "source": [
    "import big_o"
   ]
  },
  {
   "cell_type": "markdown",
   "metadata": {},
   "source": [
    "* The Fibonacci numbers are the numbers in the following integer sequence.\n",
    "* 0, 1, 1, 2, 3, 5, 8, 13, 21, 34, 55, 89, 144, ……..\n",
    "* In mathematical terms, the sequence Fn of Fibonacci numbers is defined by the recurrence relation \n",
    "*  Fn = Fn-1 + Fn-2"
   ]
  },
  {
   "cell_type": "markdown",
   "metadata": {},
   "source": [
    "* We can compare the estimated time complexities of different Fibonacci number implementations. The naive implementation is exponential O(2^n). Since this implementation is very inefficient we'll reduce the maximum tested n:"
   ]
  },
  {
   "cell_type": "code",
   "execution_count": 4,
   "metadata": {},
   "outputs": [
    {
     "name": "stdout",
     "output_type": "stream",
     "text": [
      "Exponential: time = -9.7 * 0.44^n (sec)\n"
     ]
    }
   ],
   "source": [
    "def fib_naive(n):\n",
    "    if n < 0:\n",
    "        return -1\n",
    "    if n < 2:\n",
    "        return n\n",
    "    return fib_naive(n-1) + fib_naive(n-2)\n",
    "\n",
    "print(big_o.big_o(fib_naive, big_o.datagen.n_, n_repeats=20, min_n=2, max_n=25)[0])"
   ]
  },
  {
   "cell_type": "markdown",
   "metadata": {},
   "source": [
    "* A more efficient implementation to find Fibonacci numbers involves using dynamic programming and Time coplexty change as the entered numbers increase......"
   ]
  },
  {
   "cell_type": "code",
   "execution_count": 33,
   "metadata": {},
   "outputs": [
    {
     "name": "stdout",
     "output_type": "stream",
     "text": [
      "Constant: time = 4.5E-05 (sec)\n"
     ]
    }
   ],
   "source": [
    "def fib_dp(n):\n",
    "    if n < 0:\n",
    "        return -1\n",
    "    if n < 2:\n",
    "        return n\n",
    "    a = 0\n",
    "    b = 1\n",
    "    for i in range(2, n+1):\n",
    "        a, b = b, a+b\n",
    "        return b\n",
    "print(big_o.big_o(fib_dp, big_o.datagen.n_, n_repeats=20, min_n=2, max_n=25)[0])"
   ]
  },
  {
   "cell_type": "markdown",
   "metadata": {},
   "source": [
    "* Time coplexty change as the entered numbers increase. We'll  see what happens now"
   ]
  },
  {
   "cell_type": "code",
   "execution_count": 28,
   "metadata": {},
   "outputs": [
    {
     "name": "stdout",
     "output_type": "stream",
     "text": [
      "Logarithmic: time = 0.027 + -0.00038*log(n) (sec)\n"
     ]
    }
   ],
   "source": [
    "def fib_dp(n):\n",
    "    if n < 0:\n",
    "        return -1\n",
    "    if n < 2:\n",
    "        return n\n",
    "    a = 0\n",
    "    b = 1\n",
    "    for i in range(2, n+1):\n",
    "        a, b = b, a+b\n",
    "        return b\n",
    "print(big_o.big_o(fib_dp, big_o.datagen.n_, n_repeats=20000, min_n=2, max_n=25000)[0])"
   ]
  },
  {
   "cell_type": "code",
   "execution_count": 29,
   "metadata": {},
   "outputs": [
    {
     "name": "stdout",
     "output_type": "stream",
     "text": [
      "Cubic: time = 0.23 + 1.2E-18*n^3 (sec)\n"
     ]
    }
   ],
   "source": [
    "def fib_dp(n):\n",
    "    if n < 0:\n",
    "        return -1\n",
    "    if n < 2:\n",
    "        return n\n",
    "    a = 0\n",
    "    b = 1\n",
    "    for i in range(2, n+1):\n",
    "        a, b = b, a+b\n",
    "        return b\n",
    "print(big_o.big_o(fib_dp, big_o.datagen.n_, n_repeats=200000, min_n=2, max_n=250000)[0])"
   ]
  },
  {
   "cell_type": "markdown",
   "metadata": {},
   "source": [
    "* that's all for now"
   ]
  },
  {
   "cell_type": "code",
   "execution_count": null,
   "metadata": {},
   "outputs": [],
   "source": []
  },
  {
   "cell_type": "code",
   "execution_count": null,
   "metadata": {},
   "outputs": [],
   "source": [
    "# https://www.geeksforgeeks.org/python-program-for-program-for-fibonacci-numbers-2/\n",
    "# Method 1 ( Use recursion ) :  "
   ]
  },
  {
   "cell_type": "code",
   "execution_count": null,
   "metadata": {},
   "outputs": [],
   "source": [
    "# Function for nth Fibonacci number\n",
    "def Fibonacci(n):\n",
    "    if n < 0:\n",
    "        print(\"Incorrect input\")\n",
    "    elif n == 0:\n",
    "        return 0\n",
    "    elif n == 1 or n == 2:\n",
    "        return 1\n",
    "\n",
    "    else:\n",
    "        return Fibonacci(n-1) + Fibonacci(n-2)\n",
    "\n",
    "\n",
    "print(Fibonacci(2))\n",
    "\n",
    "print(big_o.big_o(fib_dp, big_o.datagen.n_, n_repeats=20, min_n=2, max_n=25)[0])"
   ]
  },
  {
   "cell_type": "code",
   "execution_count": null,
   "metadata": {},
   "outputs": [],
   "source": [
    "# Method 2 ( Use Dynamic Programming ) : "
   ]
  },
  {
   "cell_type": "code",
   "execution_count": 35,
   "metadata": {},
   "outputs": [
    {
     "name": "stdout",
     "output_type": "stream",
     "text": [
      "21\n",
      "Linear: time = 0.0044 + -9.3E-07*n (sec)\n"
     ]
    }
   ],
   "source": [
    "# Function for nth fibonacci\n",
    "# number - Dynamic Programming\n",
    "# Taking 1st two fibonacci numbers as 0 and 1\n",
    "FibArray = [0, 1]\n",
    "\n",
    "def fibonacci(n):\n",
    "    if n <= 0:\n",
    "        print(\"Incorrect input\")\n",
    "\n",
    "    elif n <= len(FibArray):\n",
    "         return FibArray[n - 1]\n",
    "    else:\n",
    "        temp_fib = fibonacci(n - 1) +fibonacci(n - 2)\n",
    "                                \n",
    "        FibArray.append(temp_fib)\n",
    "        return temp_fib\n",
    "\n",
    "\n",
    "print(fibonacci(9))\n",
    "\n",
    "print(big_o.big_o(fib_dp, big_o.datagen.n_, n_repeats=2, min_n=2, max_n=25)[0])\n"
   ]
  },
  {
   "cell_type": "markdown",
   "metadata": {},
   "source": [
    "* Method 1: Using for loop\n",
    "* This approach is based on the following algorithm\n",
    "1. Declare two variables representing two terms of the series. Initialize them to 0 and 1 as the first and second terms of the series respectively.\n",
    "2. Initialize another variable to 0. This will be the for loop counter.\n",
    "3. Loop from 0 to the total number of terms in the series.\n",
    "4. In every iteration,\n",
    "* A. add the variables defined in step 1. This represents a term(or item) of the Fibonacci series.\n",
    "* B. assign the value of second variable to first and the sum in above step A to the second variable."
   ]
  },
  {
   "cell_type": "code",
   "execution_count": 21,
   "metadata": {},
   "outputs": [
    {
     "name": "stdout",
     "output_type": "stream",
     "text": [
      "Enter the number of items in Fibonacci series\n",
      "13\n",
      "0,1,1,2,3,5,8,13,21,34,55,89,144,Constant: time = 2.8E-05 (sec)\n"
     ]
    }
   ],
   "source": [
    "# read the total number of items in Fibonacci series\n",
    "max_item_input = input(\"Enter the number of items in Fibonacci series\\n\")\n",
    "max_item = int(max_item_input)\n",
    "# variables to hold two items of series\n",
    "first = 0\n",
    "second = 1\n",
    "# loop counter\n",
    "item = 0\n",
    "# iterate till the total number of items in the series\n",
    "for item in range(max_item):\n",
    "    # add two terms, the result represents the subsequent element of the series\n",
    "    sum = first + second\n",
    "    # print current item\n",
    "    print(first,end = \",\")\n",
    "    # assign variables\n",
    "    first = second\n",
    "    second = sum\n",
    "    # increment loop counter\n",
    "    item += 1\n",
    "print(big_o.big_o(fib_dp, big_o.datagen.n_, n_repeats=20, min_n=2, max_n=25)[0])"
   ]
  },
  {
   "cell_type": "markdown",
   "metadata": {},
   "source": [
    "* Method 2: Using recursion\n",
    "* A recursive function calls itself again and again till some condition is met.\n",
    "* Create a recursive function that receives an integer as argument. This integer argument represents the position in Fibonacci series and returns the value at that position. Thus, if it receives 5, it returns the value at 5th position in the Fibonacci series.\n",
    "\n",
    "* This recursive function returns 0 and 1 if the argument value is 0 or 1. For all other values, it calls itself with the sum of nth and (n-1)th positions.\n",
    "\n",
    "* The program reads the total number of elements in the Fibonacci series as input from keyboard. It then initiates a loop starting from 0 till the input value. In every iteration, the recursive function is called and the resultant Fibonacci item for that position is printed."
   ]
  },
  {
   "cell_type": "code",
   "execution_count": 23,
   "metadata": {},
   "outputs": [
    {
     "name": "stdout",
     "output_type": "stream",
     "text": [
      "Enter the number of items in Fibonacci series\n",
      "13\n",
      "0,1,1,2,3,5,8,13,21,34,55,89,144,Constant: time = 3.8E-05 (sec)\n"
     ]
    }
   ],
   "source": [
    "def fibonacci(number):\n",
    "    # return 0 and 1 for first and second terms\n",
    "    if number == 0:\n",
    "        return 0\n",
    "    elif number == 1:\n",
    "        return 1\n",
    "    else:\n",
    "        # return the sum of two numbers\n",
    "        return fibonacci(number - 1) + fibonacci(number - 2)\n",
    "# read the total number of items in Fibonacci series\n",
    "max_item_input = input(\"Enter the number of items in Fibonacci series\\n\")\n",
    "max_item = int(max_item_input)\n",
    "# iterate from 0 till number of terms\n",
    "for count in range(max_item):\n",
    "    print(fibonacci(count), end=\",\")\n",
    "print(big_o.big_o(fib_dp, big_o.datagen.n_, n_repeats=20, min_n=2, max_n=25)[0])"
   ]
  },
  {
   "cell_type": "code",
   "execution_count": null,
   "metadata": {},
   "outputs": [],
   "source": []
  }
 ],
 "metadata": {
  "kernelspec": {
   "display_name": "Python 3",
   "language": "python",
   "name": "python3"
  },
  "language_info": {
   "codemirror_mode": {
    "name": "ipython",
    "version": 3
   },
   "file_extension": ".py",
   "mimetype": "text/x-python",
   "name": "python",
   "nbconvert_exporter": "python",
   "pygments_lexer": "ipython3",
   "version": "3.8.5"
  }
 },
 "nbformat": 4,
 "nbformat_minor": 4
}
