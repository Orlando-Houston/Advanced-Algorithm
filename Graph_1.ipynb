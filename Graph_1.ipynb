{
 "cells": [
  {
   "cell_type": "code",
   "execution_count": null,
   "metadata": {},
   "outputs": [],
   "source": [
    "#https://www.bogotobogo.com/python/python_graph_data_structures.php\n",
    "#https://pypi.org/project/graph-theory/"
   ]
  },
  {
   "cell_type": "code",
   "execution_count": 4,
   "metadata": {},
   "outputs": [
    {
     "name": "stdout",
     "output_type": "stream",
     "text": [
      "Collecting graph-theory\n",
      "  Downloading graph-theory-2021.8.22.41289.tar.gz (44 kB)\n",
      "Building wheels for collected packages: graph-theory\n",
      "  Building wheel for graph-theory (setup.py): started\n",
      "  Building wheel for graph-theory (setup.py): finished with status 'done'\n",
      "  Created wheel for graph-theory: filename=graph_theory-2021.8.22.41289-py3-none-any.whl size=48342 sha256=8b1405f9eefbd7015dd60cd3a50cea602724a1c311b0de54ecdd87e633d98abe\n",
      "  Stored in directory: c:\\users\\aozde\\appdata\\local\\pip\\cache\\wheels\\69\\92\\cd\\91013d0dfdb166af8fff350e48648cf1354c23f0258f1fb880\n",
      "Successfully built graph-theory\n",
      "Installing collected packages: graph-theory\n",
      "Successfully installed graph-theory-2021.8.22.41289\n",
      "Note: you may need to restart the kernel to use updated packages.\n"
     ]
    }
   ],
   "source": [
    "pip install graph-theory"
   ]
  },
  {
   "cell_type": "code",
   "execution_count": 5,
   "metadata": {},
   "outputs": [
    {
     "ename": "SyntaxError",
     "evalue": "invalid syntax (<ipython-input-5-cd6c8f8b1630>, line 78)",
     "output_type": "error",
     "traceback": [
      "\u001b[1;36m  File \u001b[1;32m\"<ipython-input-5-cd6c8f8b1630>\"\u001b[1;36m, line \u001b[1;32m78\u001b[0m\n\u001b[1;33m    print (%s , %s, %3d)  % ( vid, wid, v.get_weight(w))\u001b[0m\n\u001b[1;37m           ^\u001b[0m\n\u001b[1;31mSyntaxError\u001b[0m\u001b[1;31m:\u001b[0m invalid syntax\n"
     ]
    }
   ],
   "source": [
    "class Vertex:\n",
    "    def __init__(self, node):\n",
    "        self.id = node\n",
    "        self.adjacent = {}\n",
    "\n",
    "    def __str__(self):\n",
    "        return str(self.id) + ' adjacent: ' + str([x.id for x in self.adjacent])\n",
    "\n",
    "    def add_neighbor(self, neighbor, weight=0):\n",
    "        self.adjacent[neighbor] = weight\n",
    "\n",
    "    def get_connections(self):\n",
    "        return self.adjacent.keys()  \n",
    "\n",
    "    def get_id(self):\n",
    "        return self.id\n",
    "\n",
    "    def get_weight(self, neighbor):\n",
    "        return self.adjacent[neighbor]\n",
    "\n",
    "class Graph:\n",
    "    def __init__(self):\n",
    "        self.vert_dict = {}\n",
    "        self.num_vertices = 0\n",
    "\n",
    "    def __iter__(self):\n",
    "        return iter(self.vert_dict.values())\n",
    "\n",
    "    def add_vertex(self, node):\n",
    "        self.num_vertices = self.num_vertices + 1\n",
    "        new_vertex = Vertex(node)\n",
    "        self.vert_dict[node] = new_vertex\n",
    "        return new_vertex\n",
    "\n",
    "    def get_vertex(self, n):\n",
    "        if n in self.vert_dict:\n",
    "            return self.vert_dict[n]\n",
    "        else:\n",
    "            return None\n",
    "\n",
    "    def add_edge(self, frm, to, cost = 0):\n",
    "        if frm not in self.vert_dict:\n",
    "            self.add_vertex(frm)\n",
    "        if to not in self.vert_dict:\n",
    "            self.add_vertex(to)\n",
    "\n",
    "        self.vert_dict[frm].add_neighbor(self.vert_dict[to], cost)\n",
    "        self.vert_dict[to].add_neighbor(self.vert_dict[frm], cost)\n",
    "\n",
    "    def get_vertices(self):\n",
    "        return self.vert_dict.keys()\n",
    "\n",
    "if __name__ == '__main__':\n",
    "\n",
    "    g = Graph()\n",
    "\n",
    "    g.add_vertex('a')\n",
    "    g.add_vertex('b')\n",
    "    g.add_vertex('c')\n",
    "    g.add_vertex('d')\n",
    "    g.add_vertex('e')\n",
    "    g.add_vertex('f')\n",
    "\n",
    "    g.add_edge('a', 'b', 7)  \n",
    "    g.add_edge('a', 'c', 9)\n",
    "    g.add_edge('a', 'f', 14)\n",
    "    g.add_edge('b', 'c', 10)\n",
    "    g.add_edge('b', 'd', 15)\n",
    "    g.add_edge('c', 'd', 11)\n",
    "    g.add_edge('c', 'f', 2)\n",
    "    g.add_edge('d', 'e', 6)\n",
    "    g.add_edge('e', 'f', 9)\n",
    "\n",
    "    for v in g:\n",
    "        for w in v.get_connections():\n",
    "            vid = v.get_id()\n",
    "            wid = w.get_id()\n",
    "            print (%s , %s, %3d)  % ( vid, wid, v.get_weight(w))\n",
    "\n",
    "    for v in g:\n",
    "        print (g.vert_dict[%s]=%s) %(v.get_id(), g.vert_dict[v.get_id()])"
   ]
  },
  {
   "cell_type": "code",
   "execution_count": 6,
   "metadata": {},
   "outputs": [
    {
     "ename": "SyntaxError",
     "evalue": "invalid syntax (<ipython-input-6-6794fbcb9dc0>, line 1)",
     "output_type": "error",
     "traceback": [
      "\u001b[1;36m  File \u001b[1;32m\"<ipython-input-6-6794fbcb9dc0>\"\u001b[1;36m, line \u001b[1;32m1\u001b[0m\n\u001b[1;33m    g.vert_dict[a]=a adjacent: ['f', 'c', 'b']\u001b[0m\n\u001b[1;37m                     ^\u001b[0m\n\u001b[1;31mSyntaxError\u001b[0m\u001b[1;31m:\u001b[0m invalid syntax\n"
     ]
    }
   ],
   "source": [
    "g.vert_dict[a]=a adjacent: ['f', 'c', 'b']"
   ]
  },
  {
   "cell_type": "code",
   "execution_count": null,
   "metadata": {},
   "outputs": [],
   "source": []
  }
 ],
 "metadata": {
  "kernelspec": {
   "display_name": "Python 3",
   "language": "python",
   "name": "python3"
  },
  "language_info": {
   "codemirror_mode": {
    "name": "ipython",
    "version": 3
   },
   "file_extension": ".py",
   "mimetype": "text/x-python",
   "name": "python",
   "nbconvert_exporter": "python",
   "pygments_lexer": "ipython3",
   "version": "3.8.5"
  }
 },
 "nbformat": 4,
 "nbformat_minor": 4
}
