{
 "cells": [
  {
   "cell_type": "code",
   "execution_count": null,
   "metadata": {},
   "outputs": [],
   "source": [
    "# https://www.thekerneltrip.com/machine/learning/computational-complexity-learning-algorithms/\n",
    "#https://medium.com/analytics-vidhya/time-complexity-of-ml-models-4ec39fad2770\n",
    "# https://medium.com/analytics-vidhya/computational-complexity-of-ml-algorithms-1bdc88af1c7a\n",
    "# https://stats.stackexchange.com/questions/96995/machine-learning-classifiers-big-o-or-complexity\n",
    "# https://www.ijstr.org/final-print/sep2015/Analysis-Of-Supervised-Classification-Algorithms.pdf\n",
    "#https://link.springer.com/article/10.1023/A:1007608224229\n",
    "#"
   ]
  }
 ],
 "metadata": {
  "kernelspec": {
   "display_name": "Python 3",
   "language": "python",
   "name": "python3"
  },
  "language_info": {
   "codemirror_mode": {
    "name": "ipython",
    "version": 3
   },
   "file_extension": ".py",
   "mimetype": "text/x-python",
   "name": "python",
   "nbconvert_exporter": "python",
   "pygments_lexer": "ipython3",
   "version": "3.8.5"
  }
 },
 "nbformat": 4,
 "nbformat_minor": 4
}
