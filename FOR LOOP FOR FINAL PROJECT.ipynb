{
 "cells": [
  {
   "cell_type": "code",
   "execution_count": 1,
   "metadata": {},
   "outputs": [],
   "source": [
    "import matplotlib.pyplot as plt\n",
    "import numpy as np\n",
    "import time\n",
    "import timeit\n",
    "import math\n",
    "import random\n",
    "import scipy.optimize as optimization\n",
    "from scipy.optimize import curve_fit\n",
    "from sklearn.linear_model import  LinearRegression\n",
    "from sklearn import linear_model"
   ]
  },
  {
   "cell_type": "code",
   "execution_count": 2,
   "metadata": {},
   "outputs": [],
   "source": [
    "def linear_func(x,a,b):\n",
    "    return a*x+b"
   ]
  },
  {
   "cell_type": "code",
   "execution_count": 7,
   "metadata": {},
   "outputs": [],
   "source": [
    "def sumOdds(m,n):\n",
    "    sum = 0\n",
    "    for i in range(m+1,n):#--------------------->O(n)\n",
    "        if i % 2 != 0:    #---------------------> O(n)\n",
    "            sum = sum + i\n",
    "    return sum"
   ]
  },
  {
   "cell_type": "code",
   "execution_count": 12,
   "metadata": {},
   "outputs": [
    {
     "data": {
      "image/png": "[encoded data removed]",
      "text/plain": [
       "<Figure size 648x216 with 1 Axes>"
      ]
     },
     "metadata": {
      "needs_background": "light"
     },
     "output_type": "display_data"
    }
   ],
   "source": [
    "n=10000\n",
    "times =[]\n",
    "inputs=[]\n",
    "m=0\n",
    "for i in range(1,n,5):\n",
    "    start = time.process_time()\n",
    "    sumOdds(m,n)\n",
    "    end =time.process_time()\n",
    "    times +=[end-start]\n",
    "    inputs +=[i]\n",
    "    \n",
    "    \n",
    "plt.figure(figsize=(9,3))\n",
    "plt.xlabel(\"n\")\n",
    "plt.ylabel('t')\n",
    "\n",
    "plt.scatter(inputs,times,marker=\".\")\n",
    "\n",
    "# fit the data with a linear function\n",
    "\n",
    "\n",
    "params, cov = curve_fit(linear_func,inputs,times)\n",
    "linear_fit =[]\n",
    "\n",
    "for x in inputs:\n",
    "    linear_fit += [linear_func(x,params[0],params[1])]\n",
    "    \n",
    "plt.plot(inputs,linear_fit,color='red');"
   ]
  },
  {
   "cell_type": "code",
   "execution_count": null,
   "metadata": {},
   "outputs": [],
   "source": [
    "def linear_func(x,a,b):\n",
    "    return a*x+b"
   ]
  },
  {
   "cell_type": "code",
   "execution_count": 10,
   "metadata": {},
   "outputs": [],
   "source": [
    "# Another option\n",
    "def sumOdds(t,n):\n",
    "    sum = 0\n",
    "    \n",
    "    if t % 2 == 0:\n",
    "        t = t + 1\n",
    "    else:t = t + 2\n",
    "        \n",
    "    for odd in range(t,n,2):#----------------->O(n)\n",
    "        sum = sum + odd\n",
    "    return sum\n"
   ]
  },
  {
   "cell_type": "code",
   "execution_count": 13,
   "metadata": {},
   "outputs": [
    {
     "data": {
      "image/png": "[encoded data removed]",
      "text/plain": [
       "<Figure size 648x216 with 1 Axes>"
      ]
     },
     "metadata": {
      "needs_background": "light"
     },
     "output_type": "display_data"
    }
   ],
   "source": [
    "n=100000\n",
    "times =[]\n",
    "inputs=[]\n",
    "t=0\n",
    "for i in range(1,n,5):\n",
    "    start = time.process_time()\n",
    "    sumOdds(m,n)\n",
    "    end =time.process_time()\n",
    "    times +=[end-start]\n",
    "    inputs +=[i]\n",
    "    \n",
    "    \n",
    "plt.figure(figsize=(9,3))\n",
    "plt.xlabel(\"n\")\n",
    "plt.ylabel('t')\n",
    "\n",
    "plt.scatter(inputs,times,marker=\".\")\n",
    "\n",
    "# fit the data with a linear function\n",
    "\n",
    "\n",
    "params, cov = curve_fit(linear_func,inputs,times)\n",
    "linear_fit =[]\n",
    "\n",
    "for x in inputs:\n",
    "    linear_fit += [linear_func(x,params[0],params[1])]\n",
    "    \n",
    "plt.plot(inputs,linear_fit,color='red');"
   ]
  },
  {
   "cell_type": "code",
   "execution_count": null,
   "metadata": {},
   "outputs": [],
   "source": [
    "###########################################################################################################################"
   ]
  },
  {
   "cell_type": "code",
   "execution_count": 14,
   "metadata": {},
   "outputs": [],
   "source": [
    "def linear_func(x,a,b):\n",
    "    return a*x+b"
   ]
  },
  {
   "cell_type": "code",
   "execution_count": 15,
   "metadata": {},
   "outputs": [],
   "source": [
    "def sum_if_division(n,b):\n",
    "    k=0\n",
    "    for i in range(n,b+1):\n",
    "        if(i%2==0)or(i%3==0):\n",
    "            k=k+1\n",
    "    return k"
   ]
  },
  {
   "cell_type": "code",
   "execution_count": 17,
   "metadata": {},
   "outputs": [
    {
     "data": {
      "image/png": "[encoded data removed]",
      "text/plain": [
       "<Figure size 648x216 with 1 Axes>"
      ]
     },
     "metadata": {
      "needs_background": "light"
     },
     "output_type": "display_data"
    }
   ],
   "source": [
    "n=100000\n",
    "times =[]\n",
    "inputs=[]\n",
    "b=0\n",
    "for i in range(1,n,1):\n",
    "    start = time.process_time()\n",
    "    sum_if_division(n,b)\n",
    "    end =time.process_time()\n",
    "    times +=[end-start]\n",
    "    inputs +=[i]\n",
    "    \n",
    "    \n",
    "plt.figure(figsize=(9,3))\n",
    "plt.xlabel(\"n\")\n",
    "plt.ylabel('t')\n",
    "\n",
    "plt.scatter(inputs,times,marker=\".\")\n",
    "\n",
    "# fit the data with a linear function\n",
    "\n",
    "\n",
    "params, cov = curve_fit(linear_func,inputs,times)\n",
    "linear_fit =[]\n",
    "\n",
    "for x in inputs:\n",
    "    linear_fit += [linear_func(x,params[0],params[1])]\n",
    "    \n",
    "plt.plot(inputs,linear_fit,color='red');"
   ]
  },
  {
   "cell_type": "code",
   "execution_count": null,
   "metadata": {},
   "outputs": [],
   "source": [
    "########################################################################################################################"
   ]
  },
  {
   "cell_type": "markdown",
   "metadata": {},
   "source": [
    "* In mathematics, a perfect number is an integer for which the sum of all its own positive divisors (excluding\n",
    "* itself) is equal to the number itself. For example, the number 6 is perfect, because 1+2+3 is equal to 6. Other\n",
    "* perfect numbers are 28, 496, and 8,128."
   ]
  },
  {
   "cell_type": "code",
   "execution_count": 18,
   "metadata": {},
   "outputs": [],
   "source": [
    "def linear_func(x,a,b):\n",
    "    return a*x+b"
   ]
  },
  {
   "cell_type": "code",
   "execution_count": 19,
   "metadata": {},
   "outputs": [],
   "source": [
    "def isPerfect(n):\n",
    "    k=0\n",
    "    for i in range(1,n):\n",
    "        if n%i==0:\n",
    "            k=k+i\n",
    "    if k==n:\n",
    "        return True\n",
    "    else:\n",
    "        return False"
   ]
  },
  {
   "cell_type": "code",
   "execution_count": null,
   "metadata": {},
   "outputs": [],
   "source": [
    "n=100000\n",
    "times =[]\n",
    "inputs=[]\n",
    "\n",
    "for i in range(1,n,1):\n",
    "    start = time.process_time()\n",
    "    isPerfect(n)\n",
    "    end =time.process_time()\n",
    "    times +=[end-start]\n",
    "    inputs +=[i]\n",
    "    \n",
    "    \n",
    "plt.figure(figsize=(9,3))\n",
    "plt.xlabel(\"n\")\n",
    "plt.ylabel('t')\n",
    "\n",
    "plt.scatter(inputs,times,marker=\".\")\n",
    "\n",
    "# fit the data with a linear function\n",
    "\n",
    "\n",
    "params, cov = curve_fit(linear_func,inputs,times)\n",
    "linear_fit =[]\n",
    "\n",
    "for x in inputs:\n",
    "    linear_fit += [linear_func(x,params[0],params[1])]\n",
    "    \n",
    "plt.plot(inputs,linear_fit,color='red');"
   ]
  },
  {
   "cell_type": "code",
   "execution_count": null,
   "metadata": {},
   "outputs": [],
   "source": []
  }
 ],
 "metadata": {
  "kernelspec": {
   "display_name": "Python 3",
   "language": "python",
   "name": "python3"
  },
  "language_info": {
   "codemirror_mode": {
    "name": "ipython",
    "version": 3
   },
   "file_extension": ".py",
   "mimetype": "text/x-python",
   "name": "python",
   "nbconvert_exporter": "python",
   "pygments_lexer": "ipython3",
   "version": "3.8.5"
  }
 },
 "nbformat": 4,
 "nbformat_minor": 4
}
