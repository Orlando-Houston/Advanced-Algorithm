{
 "cells": [
  {
   "cell_type": "markdown",
   "metadata": {},
   "source": [
    "* searching problems:\n",
    "* binary\n",
    "* Linear\n",
    "* How to fit and graph with linear regression(once separately, then together)"
   ]
  },
  {
   "cell_type": "code",
   "execution_count": null,
   "metadata": {},
   "outputs": [],
   "source": [
    "import random\n",
    "import time\n",
    "import matplotlib.pyplot as plt\n",
    "import matplotlib.animation as animation\n",
    "from sklearn.linear_model import  LinearRegression\n",
    "from sklearn import linear_model"
   ]
  },
  {
   "cell_type": "code",
   "execution_count": null,
   "metadata": {},
   "outputs": [],
   "source": [
    "import matplotlib.pyplot as plt\n",
    "import numpy as np\n",
    "import timeit\n",
    "import math\n",
    "import random\n",
    "plt.rcParams['figure.figsize'] = [10, 6] # set size of plot"
   ]
  },
  {
   "cell_type": "code",
   "execution_count": null,
   "metadata": {},
   "outputs": [],
   "source": [
    "import os\n",
    "import timeit\n",
    "import numpy as np\n",
    "import random\n",
    "random.seed(42)"
   ]
  },
  {
   "cell_type": "code",
   "execution_count": null,
   "metadata": {},
   "outputs": [],
   "source": [
    "from math import factorial"
   ]
  },
  {
   "cell_type": "code",
   "execution_count": null,
   "metadata": {},
   "outputs": [],
   "source": [
    "def wrapper(func, *args, **kwargs):\n",
    "    def wrapped():\n",
    "        return func(*args, **kwargs)\n",
    "    return wrapped\n",
    "\n",
    "def timer(func, *args):\n",
    "    wrapped = wrapper(func, *args)\n",
    "    time = timeit.timeit(wrapped,number=10000)\n",
    "    return(\"Time of execution is {} ms\".format(time))"
   ]
  },
  {
   "cell_type": "markdown",
   "metadata": {},
   "source": [
    "## search algorithms:\n",
    "## binary\n",
    "## Linear\n",
    "## How to fit and plot with linear regression"
   ]
  },
  {
   "cell_type": "code",
   "execution_count": null,
   "metadata": {},
   "outputs": [],
   "source": [
    "# Finds an item in an unsorted list\n",
    "def On_simple_search(list,number):\n",
    "    is_found = False\n",
    "    for num in lst:\n",
    "        if num == number:\n",
    "            is_found = True\n",
    "    return is_found"
   ]
  },
  {
   "cell_type": "code",
   "execution_count": null,
   "metadata": {},
   "outputs": [],
   "source": [
    "#lst1 = range(5)\n",
    "#lst2 = range(500)\n",
    "#lst3 = range(50000)\n",
    "\n",
    "#num1 = 2\n",
    "#num2 = -50\n",
    "#num3 = 4000\n",
    "#print(On_simple_search(lst1,num1),\"::\",timer(On_simple_search,lst1,num1))\n",
    "#print(On_simple_search(lst2,num2),\"::\",timer(On_simple_search,lst2,num2))\n",
    "#print(On_simple_search(lst3,num3),\"::\",timer(On_simple_search,lst3,num3))"
   ]
  },
  {
   "cell_type": "code",
   "execution_count": null,
   "metadata": {},
   "outputs": [],
   "source": [
    "from sklearn.linear_model import LinearRegression\n",
    "reg = LinearRegression().fit()"
   ]
  },
  {
   "cell_type": "code",
   "execution_count": null,
   "metadata": {},
   "outputs": [],
   "source": [
    "# plot the curve(grafik cizilecek)"
   ]
  },
  {
   "cell_type": "code",
   "execution_count": null,
   "metadata": {},
   "outputs": [],
   "source": [
    "# ayni fonksiyon icin iki farkli sayida veri girerek arama yapip onlari fit etmek ve grafiklerini cizmek"
   ]
  },
  {
   "cell_type": "code",
   "execution_count": null,
   "metadata": {},
   "outputs": [],
   "source": []
  },
  {
   "cell_type": "code",
   "execution_count": null,
   "metadata": {},
   "outputs": [],
   "source": []
  },
  {
   "cell_type": "code",
   "execution_count": null,
   "metadata": {},
   "outputs": [],
   "source": [
    "#recursive\n",
    "def binarySearch_r(list, number):\n",
    "    if len(list) == 0:\n",
    "        return False\n",
    "    else:\n",
    "        midpoint = len(list)//2\n",
    "        if list[midpoint]==number:\n",
    "            \n",
    "            return True\n",
    "        else:\n",
    "            if number<list[midpoint]:\n",
    "                 return binarySearch_r(list[:midpoint],number)\n",
    "            else:\n",
    "                return binarySearch_r(list[midpoint+1:],number)"
   ]
  },
  {
   "cell_type": "code",
   "execution_count": null,
   "metadata": {},
   "outputs": [],
   "source": [
    "#lst1 = range(5)\n",
    "#lst2 = range(500)\n",
    "#lst3 = range(50000)\n",
    "\n",
    "#num1 = 2\n",
    "#num2 = -50\n",
    "#num3 = 4000"
   ]
  },
  {
   "cell_type": "code",
   "execution_count": null,
   "metadata": {},
   "outputs": [],
   "source": [
    "#print(binarySearch_r(lst1,num1),\"::\",timer(binarySearch_r,lst1,num1),\"::\",\"log value = {}\".format(np.log2(len(lst1))))\n",
    "#print(binarySearch_r(lst2,num2),\"::\",timer(binarySearch_r,lst2,num2),\"::\",\"log value = {}\".format(np.log2(len(lst2))))\n",
    "#print(binarySearch_r(lst3,num3),\"::\",timer(binarySearch_r,lst3,num3),\"::\",\"log value = {}\".format(np.log2(len(lst3))))"
   ]
  },
  {
   "cell_type": "code",
   "execution_count": null,
   "metadata": {},
   "outputs": [],
   "source": [
    "from sklearn.linear_model import LinearRegression\n",
    "reg = LinearRegression().fit()"
   ]
  },
  {
   "cell_type": "code",
   "execution_count": null,
   "metadata": {},
   "outputs": [],
   "source": []
  },
  {
   "cell_type": "code",
   "execution_count": null,
   "metadata": {},
   "outputs": [],
   "source": [
    "# plot the curve(grafik cizilecek)"
   ]
  },
  {
   "cell_type": "code",
   "execution_count": null,
   "metadata": {},
   "outputs": [],
   "source": [
    "# ayni fonksiyon icin iki farkli sayida veri girerek arama yapip onlari fit etmek ve grafiklerini cizmek"
   ]
  },
  {
   "cell_type": "code",
   "execution_count": null,
   "metadata": {},
   "outputs": [],
   "source": []
  },
  {
   "cell_type": "code",
   "execution_count": null,
   "metadata": {},
   "outputs": [],
   "source": []
  },
  {
   "cell_type": "code",
   "execution_count": null,
   "metadata": {},
   "outputs": [],
   "source": [
    "# En sonda farki iki algoritmayi birlestirip fit edip  birlikte grafiklerini cizebilir miyiz"
   ]
  },
  {
   "cell_type": "code",
   "execution_count": null,
   "metadata": {},
   "outputs": [],
   "source": []
  }
 ],
 "metadata": {
  "kernelspec": {
   "display_name": "Python 3",
   "language": "python",
   "name": "python3"
  },
  "language_info": {
   "codemirror_mode": {
    "name": "ipython",
    "version": 3
   },
   "file_extension": ".py",
   "mimetype": "text/x-python",
   "name": "python",
   "nbconvert_exporter": "python",
   "pygments_lexer": "ipython3",
   "version": "3.8.5"
  }
 },
 "nbformat": 4,
 "nbformat_minor": 4
}
