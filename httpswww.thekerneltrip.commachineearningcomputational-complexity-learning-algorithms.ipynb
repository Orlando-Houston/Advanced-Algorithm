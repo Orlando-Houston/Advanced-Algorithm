{
 "cells": [
  {
   "cell_type": "code",
   "execution_count": 1,
   "metadata": {},
   "outputs": [],
   "source": [
    "#https://www.thekerneltrip.com/machine/learning/computational-complexity-learning-algorithms/"
   ]
  },
  {
   "cell_type": "code",
   "execution_count": 2,
   "metadata": {},
   "outputs": [],
   "source": [
    "import numpy as np\n",
    "import pandas as pd\n",
    "import time\n",
    "from sklearn.linear_model import LinearRegression\n",
    "import math\n",
    "\n",
    "\n",
    "class ComplexityEvaluator:\n",
    "\n",
    "    def __init__(self, nrow_samples, ncol_samples):\n",
    "        self._nrow_samples = nrow_samples\n",
    "        self._ncol_samples = ncol_samples\n",
    "\n",
    "    def _time_samples(self, model, random_data_generator):\n",
    "        rows_list = []\n",
    "        for nrow in self._nrow_samples:\n",
    "            for ncol in self._ncol_samples:\n",
    "                train, labels = random_data_generator(nrow, ncol)\n",
    "\n",
    "                start_time = time.time()\n",
    "                model.fit(train, labels)\n",
    "                elapsed_time = time.time() - start_time\n",
    "\n",
    "                result = {\"N\": nrow, \"P\": ncol, \"Time\": elapsed_time}\n",
    "                rows_list.append(result)\n",
    "\n",
    "        return rows_list\n",
    "\n",
    "    def Run(self, model, random_data_generator):\n",
    "        data = pd.DataFrame(self._time_samples(model, random_data_generator))\n",
    "        print(data)\n",
    "        data = data.applymap(math.log)\n",
    "        linear_model = LinearRegression(fit_intercept=True)\n",
    "        linear_model.fit(data[[\"N\", \"P\"]], data[[\"Time\"]])\n",
    "        return linear_model.coef_"
   ]
  },
  {
   "cell_type": "code",
   "execution_count": 3,
   "metadata": {},
   "outputs": [
    {
     "name": "stdout",
     "output_type": "stream",
     "text": [
      "       N   P      Time\n",
      "0    200   1  0.212075\n",
      "1    200   5  0.209584\n",
      "2    200  10  0.201247\n",
      "3    500   1  0.505614\n",
      "4    500   5  0.508529\n",
      "5    500  10  0.502159\n",
      "6   1000   1  1.004710\n",
      "7   1000   5  1.012068\n",
      "8   1000  10  1.018260\n",
      "9   2000   1  2.003834\n",
      "10  2000   5  2.010090\n",
      "11  2000  10  2.020752\n",
      "12  3000   1  3.000833\n",
      "13  3000   5  3.008579\n",
      "14  3000  10  3.010802\n",
      "[[ 0.9885217  -0.00229185]]\n"
     ]
    }
   ],
   "source": [
    "if __name__ == \"__main__\":\n",
    "    class TestModel:\n",
    "\n",
    "        def __init__(self):\n",
    "            pass\n",
    "\n",
    "        def fit(self, x, y):\n",
    "            time.sleep(x.shape[0] / 1000.)\n",
    "\n",
    "    def random_data_generator(n, p):\n",
    "        return np.random.rand(n, p), np.random.rand(n, 1)\n",
    "\n",
    "    model = TestModel()\n",
    "\n",
    "    complexity_evaluator = ComplexityEvaluator(\n",
    "            [200, 500, 1000, 2000, 3000], [1,5,10])\n",
    "\n",
    "    res = complexity_evaluator.Run(model, random_data_generator)\n",
    "\n",
    "    print(res)"
   ]
  },
  {
   "cell_type": "code",
   "execution_count": 4,
   "metadata": {},
   "outputs": [
    {
     "name": "stdout",
     "output_type": "stream",
     "text": [
      "Note: you may need to restart the kernel to use updated packages.\n"
     ]
    },
    {
     "name": "stderr",
     "output_type": "stream",
     "text": [
      "ERROR: Could not find a version that satisfies the requirement ComplexityEvaluator (from versions: none)\n",
      "ERROR: No matching distribution found for ComplexityEvaluator\n"
     ]
    }
   ],
   "source": [
    "pip install ComplexityEvaluator"
   ]
  },
  {
   "cell_type": "code",
   "execution_count": 5,
   "metadata": {},
   "outputs": [
    {
     "ename": "ModuleNotFoundError",
     "evalue": "No module named 'ComplexityEvaluator'",
     "output_type": "error",
     "traceback": [
      "\u001b[1;31m---------------------------------------------------------------------------\u001b[0m",
      "\u001b[1;31mModuleNotFoundError\u001b[0m                       Traceback (most recent call last)",
      "\u001b[1;32m<ipython-input-5-60c854682296>\u001b[0m in \u001b[0;36m<module>\u001b[1;34m\u001b[0m\n\u001b[0;32m      1\u001b[0m \u001b[1;32mimport\u001b[0m \u001b[0mnumpy\u001b[0m \u001b[1;32mas\u001b[0m \u001b[0mnp\u001b[0m\u001b[1;33m\u001b[0m\u001b[1;33m\u001b[0m\u001b[0m\n\u001b[1;32m----> 2\u001b[1;33m \u001b[1;32mimport\u001b[0m \u001b[0mComplexityEvaluator\u001b[0m\u001b[1;33m\u001b[0m\u001b[1;33m\u001b[0m\u001b[0m\n\u001b[0m\u001b[0;32m      3\u001b[0m \u001b[1;32mfrom\u001b[0m \u001b[0msklearn\u001b[0m\u001b[1;33m.\u001b[0m\u001b[0mlinear_model\u001b[0m \u001b[1;32mimport\u001b[0m \u001b[0mLinearRegression\u001b[0m\u001b[1;33m\u001b[0m\u001b[1;33m\u001b[0m\u001b[0m\n\u001b[0;32m      4\u001b[0m \u001b[1;32mfrom\u001b[0m \u001b[0msklearn\u001b[0m\u001b[1;33m.\u001b[0m\u001b[0mensemble\u001b[0m \u001b[1;32mimport\u001b[0m \u001b[0mRandomForestRegressor\u001b[0m\u001b[1;33m,\u001b[0m \u001b[0mExtraTreesRegressor\u001b[0m\u001b[1;33m,\u001b[0m \u001b[0mAdaBoostRegressor\u001b[0m\u001b[1;33m\u001b[0m\u001b[1;33m\u001b[0m\u001b[0m\n\u001b[0;32m      5\u001b[0m \u001b[1;32mfrom\u001b[0m \u001b[0msklearn\u001b[0m\u001b[1;33m.\u001b[0m\u001b[0mensemble\u001b[0m \u001b[1;32mimport\u001b[0m \u001b[0mRandomForestClassifier\u001b[0m\u001b[1;33m,\u001b[0m \u001b[0mExtraTreesClassifier\u001b[0m\u001b[1;33m,\u001b[0m \u001b[0mAdaBoostClassifier\u001b[0m\u001b[1;33m\u001b[0m\u001b[1;33m\u001b[0m\u001b[0m\n",
      "\u001b[1;31mModuleNotFoundError\u001b[0m: No module named 'ComplexityEvaluator'"
     ]
    }
   ],
   "source": [
    "import numpy as np\n",
    "import ComplexityEvaluator\n",
    "from sklearn.linear_model import LinearRegression\n",
    "from sklearn.ensemble import RandomForestRegressor, ExtraTreesRegressor, AdaBoostRegressor\n",
    "from sklearn.ensemble import RandomForestClassifier, ExtraTreesClassifier, AdaBoostClassifier\n",
    "from sklearn.svm import SVR, SVC\n",
    "from sklearn.linear_model import LogisticRegression\n",
    "\n",
    "\n",
    "def random_data_regression(n, p):\n",
    "    return np.random.rand(n, p), np.random.rand(n)\n",
    "\n",
    "\n",
    "def random_data_classification(n, p):\n",
    "    return np.random.rand(n, p), np.random.binomial(1, 0.5, n)\n",
    "\n",
    "\n",
    "regression_models = [RandomForestRegressor(),\n",
    "                     ExtraTreesRegressor(),\n",
    "                     AdaBoostRegressor(),\n",
    "                     LinearRegression(),\n",
    "                     SVR()]\n",
    "\n",
    "classification_models = [RandomForestClassifier(),\n",
    "                         ExtraTreesClassifier(),\n",
    "                         AdaBoostClassifier(),\n",
    "                         SVC(),\n",
    "                         LogisticRegression(),\n",
    "                         LogisticRegression(solver='sag')]\n",
    "\n",
    "names = [\"RandomForestRegressor\",\n",
    "         \"ExtraTreesRegressor\",\n",
    "         \"AdaBoostRegressor\",\n",
    "         \"LinearRegression\",\n",
    "         \"SVR\",\n",
    "         \"RandomForestClassifier\",\n",
    "         \"ExtraTreesClassifier\",\n",
    "         \"AdaBoostClassifier\",\n",
    "         \"SVC\",\n",
    "         \"LogisticRegression(solver=liblinear)\",\n",
    "         \"LogisticRegression(solver=sag)\"]\n",
    "\n",
    "complexity_evaluator = ComplexityEvaluator.ComplexityEvaluator(\n",
    "    [500, 1000, 2000, 5000, 10000, 15000, 20000],\n",
    "    [5, 10, 20, 50, 100, 200])\n",
    "\n",
    "i = 0\n",
    "for model in regression_models:\n",
    "    res = complexity_evaluator.Run(model, random_data_regression)[0]\n",
    "    print(names[i] + ' | ' + str(round(res[0], 2)) +\n",
    "          ' | ' + str(round(res[1], 2)))\n",
    "    i = i + 1\n",
    "\n",
    "for model in classification_models:\n",
    "    res = complexity_evaluator.Run(model, random_data_classification)[0]\n",
    "    print(names[i] + ' | ' + str(round(res[0], 2)) +\n",
    "          ' | ' + str(round(res[1], 2)))\n",
    "    i = i + 1\n"
   ]
  },
  {
   "cell_type": "code",
   "execution_count": null,
   "metadata": {},
   "outputs": [],
   "source": []
  }
 ],
 "metadata": {
  "kernelspec": {
   "display_name": "Python 3",
   "language": "python",
   "name": "python3"
  },
  "language_info": {
   "codemirror_mode": {
    "name": "ipython",
    "version": 3
   },
   "file_extension": ".py",
   "mimetype": "text/x-python",
   "name": "python",
   "nbconvert_exporter": "python",
   "pygments_lexer": "ipython3",
   "version": "3.8.5"
  }
 },
 "nbformat": 4,
 "nbformat_minor": 4
}
