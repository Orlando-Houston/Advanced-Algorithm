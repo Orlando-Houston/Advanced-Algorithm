{
 "cells": [
  {
   "cell_type": "code",
   "execution_count": null,
   "metadata": {},
   "outputs": [],
   "source": [
    "import random\n",
    "import time\n",
    "import matplotlib.pyplot as plt\n",
    "import matplotlib.animation as animation\n",
    "from sklearn.linear_model import  LinearRegression\n",
    "from sklearn import linear_model"
   ]
  },
  {
   "cell_type": "code",
   "execution_count": null,
   "metadata": {},
   "outputs": [],
   "source": [
    "import matplotlib.pyplot as plt\n",
    "import numpy as np\n",
    "import timeit\n",
    "import math\n",
    "import random\n",
    "plt.rcParams['figure.figsize'] = [10, 6] # set size of plot"
   ]
  },
  {
   "cell_type": "code",
   "execution_count": null,
   "metadata": {},
   "outputs": [],
   "source": [
    "reg= linear_model.LinearRegression()\n",
    "reg.fit(contains,contains_1)\n",
    "print(reg.predict)\n",
    "print(reg.score)"
   ]
  },
  {
   "cell_type": "code",
   "execution_count": null,
   "metadata": {},
   "outputs": [],
   "source": [
    "# Code\n",
    "def contains(lst, target):\n",
    "    lo = 0\n",
    "    hi = len(lst)-1\n",
    "    while lo <= hi:\n",
    "        mid = (lo + hi) // 2\n",
    "        if target < lst[mid]:\n",
    "            hi = mid - 1\n",
    "        elif target > lst[mid]:\n",
    "            lo = mid + 1\n",
    "        else:\n",
    "            return True\n",
    "    else:\n",
    "        return False\n",
    "    \n",
    "    \n",
    "\n",
    "ns = np.linspace(1, 10_000, 100, dtype=int)\n",
    "\n",
    "\n",
    "# for timeit\n",
    "ts = [timeit.timeit('contains(lst, 0)', \n",
    "                    setup='lst=list(range({}))'.format(n),\n",
    "                    globals=globals(),\n",
    "                    number=1000)\n",
    "      for n in ns]\n",
    "\n",
    "\n",
    "# for plot\n",
    "\n",
    "plt.plot(ns, ts, 'or')\n",
    "degree = 4\n",
    "coeffs = np.polyfit(ns, ts, degree)\n",
    "p = np.poly1d(coeffs)\n",
    "plt.plot(ns, [p(n) for n in ns], '-b');"
   ]
  },
  {
   "cell_type": "code",
   "execution_count": null,
   "metadata": {},
   "outputs": [],
   "source": [
    "# binery search with iteranting\n",
    "def contains_1(lst, target):\n",
    "    lo = 0\n",
    "    hi = len(lst)-1\n",
    "    while lo <= hi:\n",
    "        mid = (lo + hi) // 2\n",
    "        if target < lst[mid]:\n",
    "            hi = mid - 1\n",
    "        elif target > lst[mid]:\n",
    "            lo = mid + 1\n",
    "        else:\n",
    "            return True\n",
    "    else:\n",
    "        return False\n",
    "    \n",
    "    \n",
    "ns_1 =np.linspace(1,50_000_00, 1000, dtype=int)\n",
    "\n",
    "# for timeit\n",
    "ts_1 = [timeit.timeit('contains_1(lst, 0)', \n",
    "                    setup='lst=list(range({}))'.format(n),\n",
    "                    globals=globals(),\n",
    "                    number=1000)\n",
    "      for n in ns_1]\n",
    "\n",
    "# for plot\n",
    "plt.plot(ns_1, ts_1, 'g')\n",
    "degree = 4\n",
    "coeffs = np.polyfit(ns_1, ts_1, degree)\n",
    "p = np.poly1d(coeffs)\n",
    "plt.plot(ns_1, [p(n) for n in ns_1], '-b');\n"
   ]
  },
  {
   "cell_type": "code",
   "execution_count": null,
   "metadata": {},
   "outputs": [],
   "source": [
    "reg= linear_model.LinearRegression()\n",
    "reg.fit(contains,contains_1)\n",
    "print(reg.predict)\n",
    "print(reg.score)"
   ]
  },
  {
   "cell_type": "code",
   "execution_count": null,
   "metadata": {},
   "outputs": [],
   "source": []
  }
 ],
 "metadata": {
  "kernelspec": {
   "display_name": "Python 3",
   "language": "python",
   "name": "python3"
  },
  "language_info": {
   "codemirror_mode": {
    "name": "ipython",
    "version": 3
   },
   "file_extension": ".py",
   "mimetype": "text/x-python",
   "name": "python",
   "nbconvert_exporter": "python",
   "pygments_lexer": "ipython3",
   "version": "3.8.5"
  }
 },
 "nbformat": 4,
 "nbformat_minor": 4
}
