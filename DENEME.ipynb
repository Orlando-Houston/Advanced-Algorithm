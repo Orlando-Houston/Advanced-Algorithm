{
 "cells": [
  {
   "cell_type": "code",
   "execution_count": 4,
   "metadata": {},
   "outputs": [],
   "source": [
    "import matplotlib.pyplot as plt\n",
    "import numpy as np\n",
    "import timeit\n",
    "import math\n",
    "import random\n",
    "import scipy.optimize as optimization"
   ]
  },
  {
   "cell_type": "code",
   "execution_count": null,
   "metadata": {},
   "outputs": [],
   "source": [
    "# https://stackabuse.com/big-o-notation-and-algorithm-analysis-with-python-examples/"
   ]
  },
  {
   "cell_type": "code",
   "execution_count": 27,
   "metadata": {},
   "outputs": [
    {
     "name": "stdout",
     "output_type": "stream",
     "text": [
      "358 ns ± 36.7 ns per loop (mean ± std. dev. of 7 runs, 1000000 loops each)\n"
     ]
    }
   ],
   "source": [
    "def constant_algo(items):\n",
    "    result = items[0] * items[0]\n",
    "    return result\n",
    "\n",
    "%timeit constant_algo([4, 5, 6, 8])"
   ]
  },
  {
   "cell_type": "code",
   "execution_count": null,
   "metadata": {},
   "outputs": [],
   "source": [
    "\n",
    "import time\n",
    "n=1000\n",
    "times =[]\n",
    "inputs=[]\n",
    "for i in range(1000,n,500):\n",
    "    start = time.process_time()\n",
    "    \n",
    "    \n",
    "    \n",
    "    end =time.process_time()\n",
    "    times +=[end-start]\n",
    "    inputs +=[i]\n",
    "    \n",
    "    \n",
    "plt.figure(figsize=(9,3))\n",
    "plt.xlabel(\"n\")\n",
    "plt.ylabel('t')\n",
    "\n",
    "plt.scatter(inputs,times,marker=\".\")\n",
    "\n",
    "# fit the data with a linear function\n",
    "params, cov = optimization.curve_fit(linear_func,inputs,times)\n",
    "linear_fit =[]\n",
    "\n",
    "for x in inputs:\n",
    "    linear_fit += [linear_func(x,params[0],params[1])]\n",
    "    \n",
    "plt.plot(inputs,linear_fit,color='red');"
   ]
  },
  {
   "cell_type": "code",
   "execution_count": 34,
   "metadata": {},
   "outputs": [
    {
     "name": "stdout",
     "output_type": "stream",
     "text": [
      "5\n",
      "167 ns ± 10 ns per loop (mean ± std. dev. of 7 runs, 10000000 loops each)\n"
     ]
    }
   ],
   "source": [
    "def linear_algo(items):\n",
    "    for item in items:\n",
    "        return item\n",
    "\n",
    "items=range(5,10000,500)\n",
    "\n",
    "print(linear_algo(items))\n",
    "\n",
    "%timeit linear_algo(items)"
   ]
  },
  {
   "cell_type": "code",
   "execution_count": 35,
   "metadata": {},
   "outputs": [
    {
     "name": "stdout",
     "output_type": "stream",
     "text": [
      "152 ns ± 4.85 ns per loop (mean ± std. dev. of 7 runs, 10000000 loops each)\n"
     ]
    }
   ],
   "source": [
    "def linear_algo(items):\n",
    "    for item in items:\n",
    "        return item\n",
    "\n",
    "    for item in items:\n",
    "        return item\n",
    "    \n",
    "%timeit linear_algo(items)"
   ]
  },
  {
   "cell_type": "markdown",
   "metadata": {},
   "source": [
    "* In the above script, irrespective of the input size, or the number of items in the input list items, the algorithm performs only 2 steps: Finding the square of the first element and printing the result on the screen. Hence, the complexity remains constant."
   ]
  },
  {
   "cell_type": "code",
   "execution_count": 5,
   "metadata": {},
   "outputs": [],
   "source": [
    "def linear_func(x,a,b):\n",
    "    return a*x+b"
   ]
  },
  {
   "cell_type": "code",
   "execution_count": null,
   "metadata": {},
   "outputs": [],
   "source": [
    "def search_list(nums, target_num):\n",
    "   \n",
    "    min_index = 1\n",
    "    max_index = len(nums)\n",
    "    while min_index <= max_index:\n",
    "        middle_index = (min_index + max_index) // 2\n",
    "        if target_num == nums[middle_index]:\n",
    "            return middle_index\n",
    "        elif target_num > nums[middle_index]:\n",
    "            min_index = middle_index + 1\n",
    "        else:\n",
    "            max_index = middle_index - 1\n",
    "    return -1"
   ]
  },
  {
   "cell_type": "code",
   "execution_count": null,
   "metadata": {},
   "outputs": [],
   "source": [
    "import time\n",
    "\n",
    "\n",
    "n=10000\n",
    "times =[]\n",
    "inputs=[]\n",
    "for i in range(10000,n,500):\n",
    "    start = time.process_time()\n",
    "    factorial(i)\n",
    "    end =time.process_time()\n",
    "    times +=[end-start]\n",
    "    inputs +=[i]\n",
    "    \n",
    "    \n",
    "plt.figure(figsize=(9,3))\n",
    "plt.xlabel(\"n\")\n",
    "plt.ylabel('t')\n",
    "\n",
    "plt.scatter(inputs,times,marker=\".\")\n",
    "\n",
    "# fit the data with a linear function\n",
    "params, cov = optimization.curve_fit(linear_func,inputs,times)\n",
    "linear_fit =[]\n",
    "\n",
    "for x in inputs:\n",
    "    linear_fit += [linear_func(x,params[0],params[1])]\n",
    "    \n",
    "plt.plot(inputs,linear_fit,color='red');"
   ]
  },
  {
   "cell_type": "code",
   "execution_count": null,
   "metadata": {},
   "outputs": [],
   "source": [
    "## searches for an item in a list\n",
    "lst = list(range(1_000_000))\n",
    "def contains(lst, x):\n",
    "    for y in lst:\n",
    "        if x == y: return True\n",
    "    return False\n",
    "ns = np.linspace(10, 10_000, 100, dtype=int)\n",
    "# red plots\n",
    "ts = [timeit.timeit('contains(lst, 0)', \n",
    "                    setup='lst=list(range({})); random.shuffle(lst)'.format(n),\n",
    "                    globals=globals(),\n",
    "                    number=100)\n",
    "      for n in ns]\n",
    "plt.plot(ns, ts, 'or')\n",
    "# line of best fit for red plots\n",
    "degree = 4\n",
    "coeffs = np.polyfit(ns, ts, degree)\n",
    "p = np.poly1d(coeffs)\n",
    "plt.plot(ns, [p(n) for n in ns], '-r')\n",
    "# blue plots\n",
    "ts = [timeit.timeit('contains(lst, -1)', \n",
    "                    setup='lst=list(range({}))'.format(n),\n",
    "                    globals=globals(),\n",
    "                    number=100)\n",
    "      for n in ns]\n",
    "plt.plot(ns, ts, 'ob')\n",
    "# line of best fit for blue plots\n",
    "degree = 4\n",
    "coeffs = np.polyfit(ns, ts, degree)\n",
    "p = np.poly1d(coeffs)\n",
    "plt.plot(ns, [p(n) for n in ns], '-b');"
   ]
  },
  {
   "cell_type": "code",
   "execution_count": null,
   "metadata": {},
   "outputs": [],
   "source": [
    "# https://cs61a.org/study-guide/orders-of-growth/"
   ]
  },
  {
   "cell_type": "code",
   "execution_count": 1,
   "metadata": {},
   "outputs": [],
   "source": []
  },
  {
   "cell_type": "code",
   "execution_count": 15,
   "metadata": {},
   "outputs": [
    {
     "name": "stdout",
     "output_type": "stream",
     "text": [
      "398 ns ± 29.8 ns per loop (mean ± std. dev. of 7 runs, 1000000 loops each)\n"
     ]
    }
   ],
   "source": [
    "def is_prime(n):\n",
    "    for i in range(2, n):\n",
    "        if n % i == 0:\n",
    "            return False\n",
    "    return True\n",
    "\n",
    "t=%timeit is_prime(1000)\n",
    "t"
   ]
  },
  {
   "cell_type": "markdown",
   "metadata": {},
   "source": [
    "* Linear.\n",
    "\n",
    "* Explanation: In the worst case, n is prime, and we have to execute the loop n - 2 times. Each iteration takes constant time (one conditional check and one return statement). Therefore, the total time is (n - 2) x constant, or simply linear. "
   ]
  },
  {
   "cell_type": "code",
   "execution_count": 10,
   "metadata": {},
   "outputs": [
    {
     "ename": "ValueError",
     "evalue": "`ydata` must not be empty!",
     "output_type": "error",
     "traceback": [
      "\u001b[1;31m---------------------------------------------------------------------------\u001b[0m",
      "\u001b[1;31mValueError\u001b[0m                                Traceback (most recent call last)",
      "\u001b[1;32m<ipython-input-10-ed16b95bd36d>\u001b[0m in \u001b[0;36m<module>\u001b[1;34m\u001b[0m\n\u001b[0;32m     20\u001b[0m \u001b[1;33m\u001b[0m\u001b[0m\n\u001b[0;32m     21\u001b[0m \u001b[1;31m# fit the data with a linear function\u001b[0m\u001b[1;33m\u001b[0m\u001b[1;33m\u001b[0m\u001b[1;33m\u001b[0m\u001b[0m\n\u001b[1;32m---> 22\u001b[1;33m \u001b[0mparams\u001b[0m\u001b[1;33m,\u001b[0m \u001b[0mcov\u001b[0m \u001b[1;33m=\u001b[0m \u001b[0moptimization\u001b[0m\u001b[1;33m.\u001b[0m\u001b[0mcurve_fit\u001b[0m\u001b[1;33m(\u001b[0m\u001b[0mlinear_func\u001b[0m\u001b[1;33m,\u001b[0m\u001b[0minputs\u001b[0m\u001b[1;33m,\u001b[0m\u001b[0mtimes\u001b[0m\u001b[1;33m)\u001b[0m\u001b[1;33m\u001b[0m\u001b[1;33m\u001b[0m\u001b[0m\n\u001b[0m\u001b[0;32m     23\u001b[0m \u001b[0mlinear_fit\u001b[0m \u001b[1;33m=\u001b[0m\u001b[1;33m[\u001b[0m\u001b[1;33m]\u001b[0m\u001b[1;33m\u001b[0m\u001b[1;33m\u001b[0m\u001b[0m\n\u001b[0;32m     24\u001b[0m \u001b[1;33m\u001b[0m\u001b[0m\n",
      "\u001b[1;32mC:\\ANACONDA\\lib\\site-packages\\scipy\\optimize\\minpack.py\u001b[0m in \u001b[0;36mcurve_fit\u001b[1;34m(f, xdata, ydata, p0, sigma, absolute_sigma, check_finite, bounds, method, jac, **kwargs)\u001b[0m\n\u001b[0;32m    745\u001b[0m \u001b[1;33m\u001b[0m\u001b[0m\n\u001b[0;32m    746\u001b[0m     \u001b[1;32mif\u001b[0m \u001b[0mydata\u001b[0m\u001b[1;33m.\u001b[0m\u001b[0msize\u001b[0m \u001b[1;33m==\u001b[0m \u001b[1;36m0\u001b[0m\u001b[1;33m:\u001b[0m\u001b[1;33m\u001b[0m\u001b[1;33m\u001b[0m\u001b[0m\n\u001b[1;32m--> 747\u001b[1;33m         \u001b[1;32mraise\u001b[0m \u001b[0mValueError\u001b[0m\u001b[1;33m(\u001b[0m\u001b[1;34m\"`ydata` must not be empty!\"\u001b[0m\u001b[1;33m)\u001b[0m\u001b[1;33m\u001b[0m\u001b[1;33m\u001b[0m\u001b[0m\n\u001b[0m\u001b[0;32m    748\u001b[0m \u001b[1;33m\u001b[0m\u001b[0m\n\u001b[0;32m    749\u001b[0m     \u001b[1;31m# Determine type of sigma\u001b[0m\u001b[1;33m\u001b[0m\u001b[1;33m\u001b[0m\u001b[1;33m\u001b[0m\u001b[0m\n",
      "\u001b[1;31mValueError\u001b[0m: `ydata` must not be empty!"
     ]
    },
    {
     "data": {
      "image/png": "[encoded data removed]",
      "text/plain": [
       "<Figure size 648x216 with 1 Axes>"
      ]
     },
     "metadata": {
      "needs_background": "light"
     },
     "output_type": "display_data"
    }
   ],
   "source": [
    "import time\n",
    "\n",
    "\n",
    "n=10000\n",
    "times =[]\n",
    "inputs=[]\n",
    "for i in range(10000,n,500):\n",
    "    start = time.process_time()\n",
    "    \n",
    "    end =time.process_time()\n",
    "    times +=[end-start]\n",
    "    inputs +=[i]\n",
    "    \n",
    "    \n",
    "plt.figure(figsize=(9,3))\n",
    "plt.xlabel(\"n\")\n",
    "plt.ylabel('t')\n",
    "\n",
    "plt.scatter(inputs,times,marker=\".\")\n",
    "\n",
    "# fit the data with a linear function\n",
    "params, cov = optimization.curve_fit(linear_func,inputs,times)\n",
    "linear_fit =[]\n",
    "\n",
    "for n in inputs:\n",
    "    linear_fit += [is_prime(n)]\n",
    "    \n",
    "plt.plot(inputs,linear_fit,color='red');"
   ]
  },
  {
   "cell_type": "code",
   "execution_count": 23,
   "metadata": {},
   "outputs": [
    {
     "name": "stdout",
     "output_type": "stream",
     "text": [
      "882000 672400\n",
      "201 µs ± 56 µs per loop (mean ± std. dev. of 7 runs, 10000 loops each)\n",
      "17 µs ± 1.74 µs per loop (mean ± std. dev. of 7 runs, 100000 loops each)\n"
     ]
    }
   ],
   "source": [
    "def bar(n):\n",
    "    i, sum = 1, 0\n",
    "    while i <= n:\n",
    "        sum += biz(n)\n",
    "        i += 1\n",
    "    return sum\n",
    "\n",
    "def biz(n):\n",
    "    i, sum = 1, 0\n",
    "    while i <= n:\n",
    "        sum += i**3\n",
    "        i += 1\n",
    "    return sum\n",
    "\n",
    "print( bar(20),biz(40))\n",
    "%timeit bar(20)\n",
    "%timeit biz(40)"
   ]
  },
  {
   "cell_type": "markdown",
   "metadata": {},
   "source": [
    "* Quadratic.\n",
    "\n",
    "* : The body of the while loop in bar is executed n times. Each iteration, one call to biz(n) is made. Note that n never changes, so this call takes the same time to run each iteration. Taking a look at biz, we see that there is another while loop. Be careful to note that although the term being added to sum is cubed (i**3), i itself is only incremented by 1 in each iteration. This tells us that this while loop also executes n times, with each iteration taking constant time, so the total time of biz(n) is n x constant, or linear. Knowing that each call to biz(n) takes linear time, we can conclude that each iteration of the while loop in bar is linear. Therefore, the total runtime of bar(n) is quadratic.\n",
    "\n"
   ]
  },
  {
   "cell_type": "code",
   "execution_count": 12,
   "metadata": {},
   "outputs": [
    {
     "name": "stdout",
     "output_type": "stream",
     "text": [
      "815 ns ± 70.7 ns per loop (mean ± std. dev. of 7 runs, 1000000 loops each)\n"
     ]
    }
   ],
   "source": [
    "def bonk(n):\n",
    "    sum = 0\n",
    "    while n >= 2:\n",
    "        sum += n\n",
    "        n = n / 2\n",
    "    return sum\n",
    "\n",
    "%timeit bonk(20)"
   ]
  },
  {
   "cell_type": "markdown",
   "metadata": {},
   "source": [
    "* ϴ(log(n)). As we increase the value of n, the amount of time needed to evaluate a call to bonk scales logarithmically. Let's use the number of iterations of our while loop to illustrate an example. When n = 1, our loop iterates 0 times. When n = 2, our loop iterates 1 time. When n = 4, we have 2 iterations. And when n = 8, a call to bonk(8) results in 3 iterations of this while loop. As the value of the input scales by a factor of 2, the number of iterations increases by 1. This helps indicate that this function has logarithmic runtime."
   ]
  },
  {
   "cell_type": "code",
   "execution_count": null,
   "metadata": {},
   "outputs": [],
   "source": [
    "#https://www.happycoders.eu/algorithms/big-o-notation-time-complexity/#O1_-_Constant_Time"
   ]
  }
 ],
 "metadata": {
  "kernelspec": {
   "display_name": "Python 3",
   "language": "python",
   "name": "python3"
  },
  "language_info": {
   "codemirror_mode": {
    "name": "ipython",
    "version": 3
   },
   "file_extension": ".py",
   "mimetype": "text/x-python",
   "name": "python",
   "nbconvert_exporter": "python",
   "pygments_lexer": "ipython3",
   "version": "3.8.5"
  }
 },
 "nbformat": 4,
 "nbformat_minor": 4
}
