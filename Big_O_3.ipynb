{
 "cells": [
  {
   "cell_type": "markdown",
   "metadata": {},
   "source": [
    "# Best Scenario vs Worst Scenario"
   ]
  },
  {
   "cell_type": "code",
   "execution_count": null,
   "metadata": {},
   "outputs": [],
   "source": []
  },
  {
   "cell_type": "markdown",
   "metadata": {},
   "source": [
    "# The problem is to reach the best and worst scenario by entering different numbers of data to find the maximum number."
   ]
  },
  {
   "cell_type": "code",
   "execution_count": 1,
   "metadata": {},
   "outputs": [],
   "source": [
    "import big_o"
   ]
  },
  {
   "cell_type": "code",
   "execution_count": 2,
   "metadata": {},
   "outputs": [],
   "source": [
    "def find_max(x):\n",
    "    max_ = 0\n",
    "    for el in x:\n",
    "        if el > max_:\n",
    "            max_ = el\n",
    "            return max_\n"
   ]
  },
  {
   "cell_type": "code",
   "execution_count": 3,
   "metadata": {},
   "outputs": [
    {
     "name": "stdout",
     "output_type": "stream",
     "text": [
      "Constant: time = 3.8E-05 (sec)\n"
     ]
    }
   ],
   "source": [
    "import big_o\n",
    "positive_int_generator = lambda n: big_o.datagen.integers(n, 0, 10000)\n",
    "best, others = big_o.big_o(find_max, positive_int_generator, n_repeats=100)\n",
    "print(best)"
   ]
  },
  {
   "cell_type": "code",
   "execution_count": 4,
   "metadata": {},
   "outputs": [
    {
     "name": "stdout",
     "output_type": "stream",
     "text": [
      "Constant: time = 3.8E-05 (sec)                                  (res: 2E-09)\n",
      "Linear: time = 4.9E-05 + -2.3E-10*n (sec)                       (res: 1.4E-09)\n",
      "Quadratic: time = 4.6E-05 + -2.2E-15*n^2 (sec)                  (res: 1.4E-09)\n",
      "Cubic: time = 4.3E-05 + -2E-20*n^3 (sec)                        (res: 1.5E-09)\n",
      "Polynomial: time = -10 * x^-0.017 (sec)                         (res: 0.98)\n",
      "Logarithmic: time = 4.5E-05 + -7.2E-07*log(n) (sec)             (res: 1.9E-09)\n",
      "Linearithmic: time = 4.9E-05 + -2E-11*n*log(n) (sec)            (res: 1.4E-09)\n",
      "Exponential: time = -10 * -5.2E-06^n (sec)                      (res: 0.71)\n"
     ]
    }
   ],
   "source": [
    "for class_, residuals in others.items():\n",
    "    print('{!s:<60s}    (res: {:.2G})'.format(class_, residuals))"
   ]
  },
  {
   "cell_type": "markdown",
   "metadata": {},
   "source": [
    "## In case we increase the number of inputs we'll see what's changed......."
   ]
  },
  {
   "cell_type": "code",
   "execution_count": 5,
   "metadata": {},
   "outputs": [
    {
     "name": "stdout",
     "output_type": "stream",
     "text": [
      "Cubic: time = 0.0033 + 2.3E-18*n^3 (sec)\n"
     ]
    }
   ],
   "source": [
    "import big_o\n",
    "positive_int_generator = lambda n: big_o.datagen.integers(n, 0, 100000)\n",
    "best, others = big_o.big_o(find_max, positive_int_generator, n_repeats=10000)\n",
    "print(best)"
   ]
  },
  {
   "cell_type": "code",
   "execution_count": 6,
   "metadata": {},
   "outputs": [
    {
     "name": "stdout",
     "output_type": "stream",
     "text": [
      "Constant: time = 0.004 (sec)                                    (res: 3.2E-05)\n",
      "Linear: time = 0.0029 + 2.1E-08*n (sec)                         (res: 2.8E-05)\n",
      "Quadratic: time = 0.0032 + 2.1E-13*n^2 (sec)                    (res: 2.7E-05)\n",
      "Cubic: time = 0.0033 + 2.3E-18*n^3 (sec)                        (res: 2.6E-05)\n",
      "Polynomial: time = -6.3 * x^0.069 (sec)                         (res: 1.2)\n",
      "Logarithmic: time = 0.00094 + 0.0003*log(n) (sec)               (res: 2.9E-05)\n",
      "Linearithmic: time = 0.0029 + 1.8E-09*n*log(n) (sec)            (res: 2.8E-05)\n",
      "Exponential: time = -5.8 * 4.3E-06^n (sec)                      (res: 1.2)\n"
     ]
    }
   ],
   "source": [
    "for class_, residuals in others.items():\n",
    "    print('{!s:<60s}    (res: {:.2G})'.format(class_, residuals))"
   ]
  },
  {
   "cell_type": "code",
   "execution_count": 7,
   "metadata": {},
   "outputs": [
    {
     "name": "stdout",
     "output_type": "stream",
     "text": [
      "Linear: time = 0.14 + -5.3E-07*n (sec)\n"
     ]
    }
   ],
   "source": [
    "import big_o\n",
    "positive_int_generator = lambda n: big_o.datagen.integers(n, 0, 2000000)\n",
    "best, others = big_o.big_o(find_max, positive_int_generator, n_repeats=200000)\n",
    "print(best)"
   ]
  },
  {
   "cell_type": "code",
   "execution_count": 8,
   "metadata": {},
   "outputs": [
    {
     "name": "stdout",
     "output_type": "stream",
     "text": [
      "Constant: time = 0.11 (sec)                                     (res: 0.0054)\n",
      "Linear: time = 0.14 + -5.3E-07*n (sec)                          (res: 0.0026)\n",
      "Quadratic: time = 0.13 + -4.5E-12*n^2 (sec)                     (res: 0.0032)\n",
      "Cubic: time = 0.12 + -3.9E-17*n^3 (sec)                         (res: 0.0038)\n",
      "Polynomial: time = -1.8 * x^-0.045 (sec)                        (res: 0.3)\n",
      "Logarithmic: time = 0.16 + -0.005*log(n) (sec)                  (res: 0.0044)\n",
      "Linearithmic: time = 0.14 + -4.5E-08*n*log(n) (sec)             (res: 0.0026)\n",
      "Exponential: time = -2 * -4.4E-06^n (sec)                       (res: 0.18)\n"
     ]
    }
   ],
   "source": [
    "for class_, residuals in others.items():\n",
    "    print('{!s:<60s}    (res: {:.2G})'.format(class_, residuals))"
   ]
  },
  {
   "cell_type": "code",
   "execution_count": 9,
   "metadata": {},
   "outputs": [
    {
     "name": "stdout",
     "output_type": "stream",
     "text": [
      "Cubic: time = 0.23 + -5.6E-17*n^3 (sec)\n"
     ]
    }
   ],
   "source": [
    "import big_o\n",
    "positive_int_generator = lambda n: big_o.datagen.integers(n, 0, 5000000)\n",
    "best, others = big_o.big_o(find_max, positive_int_generator, n_repeats=500000)\n",
    "print(best)"
   ]
  },
  {
   "cell_type": "code",
   "execution_count": 10,
   "metadata": {},
   "outputs": [
    {
     "name": "stdout",
     "output_type": "stream",
     "text": [
      "Constant: time = 0.21 (sec)                                     (res: 0.011)\n",
      "Linear: time = 0.22 + -2.5E-07*n (sec)                          (res: 0.01)\n",
      "Quadratic: time = 0.23 + -4.5E-12*n^2 (sec)                     (res: 0.0086)\n",
      "Cubic: time = 0.23 + -5.6E-17*n^3 (sec)                         (res: 0.0074)\n",
      "Polynomial: time = -1.7 * x^0.012 (sec)                         (res: 0.25)\n",
      "Logarithmic: time = 0.18 + 0.0029*log(n) (sec)                  (res: 0.01)\n",
      "Linearithmic: time = 0.22 + -2.4E-08*n*log(n) (sec)             (res: 0.01)\n",
      "Exponential: time = -1.5 * -1.4E-06^n (sec)                     (res: 0.24)\n"
     ]
    }
   ],
   "source": [
    "for class_, residuals in others.items():\n",
    "    print('{!s:<60s}    (res: {:.2G})'.format(class_, residuals))"
   ]
  },
  {
   "cell_type": "code",
   "execution_count": null,
   "metadata": {},
   "outputs": [],
   "source": []
  },
  {
   "cell_type": "code",
   "execution_count": 11,
   "metadata": {},
   "outputs": [
    {
     "name": "stdout",
     "output_type": "stream",
     "text": [
      "Exponential: time = 0.6 * 5.5E-06^n (sec)\n"
     ]
    }
   ],
   "source": [
    "import big_o\n",
    "positive_int_generator = lambda n: big_o.datagen.integers(n, 0, 50000000)\n",
    "best, others = big_o.big_o(find_max, positive_int_generator, n_repeats=5000000)\n",
    "print(best)"
   ]
  },
  {
   "cell_type": "code",
   "execution_count": 12,
   "metadata": {},
   "outputs": [
    {
     "name": "stdout",
     "output_type": "stream",
     "text": [
      "Constant: time = 2.5 (sec)                                      (res: 5)\n",
      "Linear: time = 1.7 + 1.6E-05*n (sec)                            (res: 2.4)\n",
      "Quadratic: time = 1.8 + 1.8E-10*n^2 (sec)                       (res: 1.4)\n",
      "Cubic: time = 1.9 + 2E-15*n^3 (sec)                             (res: 0.88)\n",
      "Polynomial: time = 0.47 * x^0.04 (sec)                          (res: 0.53)\n",
      "Logarithmic: time = 1.3 + 0.12*log(n) (sec)                     (res: 4.4)\n",
      "Linearithmic: time = 1.7 + 1.4E-06*n*log(n) (sec)               (res: 2.3)\n",
      "Exponential: time = 0.6 * 5.5E-06^n (sec)                       (res: 0.28)\n"
     ]
    }
   ],
   "source": [
    "for class_, residuals in others.items():\n",
    "    print('{!s:<60s}    (res: {:.2G})'.format(class_, residuals))"
   ]
  },
  {
   "cell_type": "code",
   "execution_count": null,
   "metadata": {},
   "outputs": [],
   "source": []
  },
  {
   "cell_type": "code",
   "execution_count": 13,
   "metadata": {},
   "outputs": [
    {
     "name": "stdout",
     "output_type": "stream",
     "text": [
      "Polynomial: time = 3.2 * x^-0.04 (sec)\n"
     ]
    }
   ],
   "source": [
    "import big_o\n",
    "positive_int_generator = lambda n: big_o.datagen.integers(n, 0, 10000000)\n",
    "best, others = big_o.big_o(find_max, positive_int_generator, n_repeats=50000000)\n",
    "print(best)"
   ]
  },
  {
   "cell_type": "code",
   "execution_count": 14,
   "metadata": {},
   "outputs": [
    {
     "name": "stdout",
     "output_type": "stream",
     "text": [
      "Constant: time = 17 (sec)                                       (res: 31)\n",
      "Linear: time = 18 + -2.7E-05*n (sec)                            (res: 24)\n",
      "Quadratic: time = 18 + -2.1E-10*n^2 (sec)                       (res: 26)\n",
      "Cubic: time = 18 + -2E-15*n^3 (sec)                             (res: 27)\n",
      "Polynomial: time = 3.2 * x^-0.04 (sec)                          (res: 0.031)\n",
      "Logarithmic: time = 25 + -0.76*log(n) (sec)                     (res: 9.2)\n",
      "Linearithmic: time = 18 + -2.2E-06*n*log(n) (sec)               (res: 24)\n",
      "Exponential: time = 2.9 * -1.4E-06^n (sec)                      (res: 0.071)\n"
     ]
    }
   ],
   "source": [
    "for class_, residuals in others.items():\n",
    "    print('{!s:<60s}    (res: {:.2G})'.format(class_, residuals))"
   ]
  },
  {
   "cell_type": "markdown",
   "metadata": {},
   "source": [
    "## In the problem of finding the max number, the best scenario changed as the data input got bigger. The worst scenario remained the same.\n",
    "* Best scenarios that change as the number of entered elements increases:\n",
    "  * Constant Time\n",
    "  * Logaritmik time\n",
    "  * Polinomial time\n",
    "  * Exponential Time\n",
    "  \n",
    "* Worst Scenario remained unchanged in all trials.\n",
    "   * Exponential Time\n",
    "   \n",
    " # IN THIS CASE THE CLASSIFICATION IS NON LINEAR........\n",
    "  "
   ]
  },
  {
   "cell_type": "markdown",
   "metadata": {},
   "source": [
    "# We wanted to experiment with Fibonacci numbers."
   ]
  },
  {
   "cell_type": "markdown",
   "metadata": {},
   "source": [
    "### We can compare the estimated time complexities of different Fibonacci number implementations. The naive implementation . Since this implementation is very inefficient we'll reduce the maximum tested n:"
   ]
  },
  {
   "cell_type": "code",
   "execution_count": 23,
   "metadata": {},
   "outputs": [
    {
     "name": "stdout",
     "output_type": "stream",
     "text": [
      "Exponential: time = -10 * 0.47^n (sec)\n"
     ]
    }
   ],
   "source": [
    "def fib_naive(n):\n",
    "    if n < 0:\n",
    "        return -1\n",
    "    if n < 2:\n",
    "        return n\n",
    "    return fib_naive(n-1) + fib_naive(n-2)\n",
    "\n",
    "print(big_o.big_o(fib_naive, big_o.datagen.n_, n_repeats=20, min_n=2, max_n=25)[0])\n",
    "#best, others= big_o.big_o(fib_naive, big_o.datagen.n_, n_repeats=20, min_n=2, max_n=25)[0]\n"
   ]
  },
  {
   "cell_type": "code",
   "execution_count": null,
   "metadata": {},
   "outputs": [],
   "source": [
    "for class_, residuals in others.items():\n",
    "    print('{!s:<60s}    (res: {:.2G})'.format(class_, residuals))"
   ]
  },
  {
   "cell_type": "markdown",
   "metadata": {},
   "source": [
    "### Best Worst Scenario same.... Time conmplexity classifier: Non linear "
   ]
  },
  {
   "cell_type": "markdown",
   "metadata": {},
   "source": [
    "### A more efficient implementation to find Fibonacci numbers involves using dynamic programming and Time coplexty change as the entered numbers increase......"
   ]
  },
  {
   "cell_type": "code",
   "execution_count": 26,
   "metadata": {},
   "outputs": [
    {
     "name": "stdout",
     "output_type": "stream",
     "text": [
      "Constant: time = 4.8E-05 (sec)\n"
     ]
    }
   ],
   "source": [
    "def fib_dp(n):\n",
    "    if n < 0:\n",
    "        return -1\n",
    "    if n < 2:\n",
    "        return n\n",
    "    a = 0\n",
    "    b = 1\n",
    "    for i in range(2, n+1):\n",
    "        a, b = b, a+b\n",
    "        return b\n",
    "print(big_o.big_o(fib_dp, big_o.datagen.n_, n_repeats=20, min_n=2, max_n=25)[0])\n",
    "#best, others= big_o.big_o(fib_dp, big_o.datagen.n_, n_repeats=20, min_n=2, max_n=25)[0]\n",
    "#print(best)"
   ]
  },
  {
   "cell_type": "code",
   "execution_count": 27,
   "metadata": {},
   "outputs": [
    {
     "ename": "TypeError",
     "evalue": "cannot unpack non-iterable Constant object",
     "output_type": "error",
     "traceback": [
      "\u001b[1;31m---------------------------------------------------------------------------\u001b[0m",
      "\u001b[1;31mTypeError\u001b[0m                                 Traceback (most recent call last)",
      "\u001b[1;32m<ipython-input-27-81993868f7fc>\u001b[0m in \u001b[0;36m<module>\u001b[1;34m\u001b[0m\n\u001b[0;32m     10\u001b[0m         \u001b[1;32mreturn\u001b[0m \u001b[0mb\u001b[0m\u001b[1;33m\u001b[0m\u001b[1;33m\u001b[0m\u001b[0m\n\u001b[0;32m     11\u001b[0m \u001b[1;31m#print(big_o.big_o(fib_dp, big_o.datagen.n_, n_repeats=20, min_n=2, max_n=25)[0])\u001b[0m\u001b[1;33m\u001b[0m\u001b[1;33m\u001b[0m\u001b[1;33m\u001b[0m\u001b[0m\n\u001b[1;32m---> 12\u001b[1;33m \u001b[0mbest\u001b[0m\u001b[1;33m,\u001b[0m \u001b[0mothers\u001b[0m\u001b[1;33m=\u001b[0m \u001b[0mbig_o\u001b[0m\u001b[1;33m.\u001b[0m\u001b[0mbig_o\u001b[0m\u001b[1;33m(\u001b[0m\u001b[0mfib_dp\u001b[0m\u001b[1;33m,\u001b[0m \u001b[0mbig_o\u001b[0m\u001b[1;33m.\u001b[0m\u001b[0mdatagen\u001b[0m\u001b[1;33m.\u001b[0m\u001b[0mn_\u001b[0m\u001b[1;33m,\u001b[0m \u001b[0mn_repeats\u001b[0m\u001b[1;33m=\u001b[0m\u001b[1;36m20\u001b[0m\u001b[1;33m,\u001b[0m \u001b[0mmin_n\u001b[0m\u001b[1;33m=\u001b[0m\u001b[1;36m2\u001b[0m\u001b[1;33m,\u001b[0m \u001b[0mmax_n\u001b[0m\u001b[1;33m=\u001b[0m\u001b[1;36m25\u001b[0m\u001b[1;33m)\u001b[0m\u001b[1;33m[\u001b[0m\u001b[1;36m0\u001b[0m\u001b[1;33m]\u001b[0m\u001b[1;33m\u001b[0m\u001b[1;33m\u001b[0m\u001b[0m\n\u001b[0m\u001b[0;32m     13\u001b[0m \u001b[0mprint\u001b[0m\u001b[1;33m(\u001b[0m\u001b[0mbest\u001b[0m\u001b[1;33m)\u001b[0m\u001b[1;33m\u001b[0m\u001b[1;33m\u001b[0m\u001b[0m\n",
      "\u001b[1;31mTypeError\u001b[0m: cannot unpack non-iterable Constant object"
     ]
    }
   ],
   "source": [
    "def fib_dp(n):\n",
    "    if n < 0:\n",
    "        return -1\n",
    "    if n < 2:\n",
    "        return n\n",
    "    a = 0\n",
    "    b = 1\n",
    "    for i in range(2, n+1):\n",
    "        a, b = b, a+b\n",
    "        return b\n",
    "#print(big_o.big_o(fib_dp, big_o.datagen.n_, n_repeats=20, min_n=2, max_n=25)[0])\n",
    "best, others= big_o.big_o(fib_dp, big_o.datagen.n_, n_repeats=20, min_n=2, max_n=25)[0]\n",
    "print(best)"
   ]
  },
  {
   "cell_type": "code",
   "execution_count": null,
   "metadata": {},
   "outputs": [],
   "source": [
    "for class_, residuals in others.items():\n",
    "    print('{!s:<60s}    (res: {:.2G})'.format(class_, residuals))"
   ]
  },
  {
   "cell_type": "markdown",
   "metadata": {},
   "source": [
    "###  increase n_repeat"
   ]
  },
  {
   "cell_type": "code",
   "execution_count": 19,
   "metadata": {},
   "outputs": [
    {
     "name": "stdout",
     "output_type": "stream",
     "text": [
      "Linear: time = 0.024 + -1E-07*n (sec)\n"
     ]
    }
   ],
   "source": [
    "def fib_dp(n):\n",
    "    if n < 0:\n",
    "        return -1\n",
    "    if n < 2:\n",
    "        return n\n",
    "    a = 0\n",
    "    b = 1\n",
    "    for i in range(2, n+1):\n",
    "        a, b = b, a+b\n",
    "        return b\n",
    "print(big_o.big_o(fib_dp, big_o.datagen.n_, n_repeats=20000, min_n=2, max_n=25000)[0])"
   ]
  },
  {
   "cell_type": "code",
   "execution_count": null,
   "metadata": {},
   "outputs": [],
   "source": []
  },
  {
   "cell_type": "code",
   "execution_count": 20,
   "metadata": {},
   "outputs": [
    {
     "name": "stdout",
     "output_type": "stream",
     "text": [
      "Cubic: time = 0.24 + 1.2E-18*n^3 (sec)\n"
     ]
    }
   ],
   "source": [
    "def fib_dp(n):\n",
    "    if n < 0:\n",
    "        return -1\n",
    "    if n < 2:\n",
    "        return n\n",
    "    a = 0\n",
    "    b = 1\n",
    "    for i in range(2, n+1):\n",
    "        a, b = b, a+b\n",
    "        return b\n",
    "print(big_o.big_o(fib_dp, big_o.datagen.n_, n_repeats=200000, min_n=2, max_n=250000)[0])"
   ]
  },
  {
   "cell_type": "markdown",
   "metadata": {},
   "source": [
    "### The ones written below are the best scenarios"
   ]
  },
  {
   "cell_type": "code",
   "execution_count": null,
   "metadata": {},
   "outputs": [],
   "source": []
  }
 ],
 "metadata": {
  "kernelspec": {
   "display_name": "Python 3",
   "language": "python",
   "name": "python3"
  },
  "language_info": {
   "codemirror_mode": {
    "name": "ipython",
    "version": 3
   },
   "file_extension": ".py",
   "mimetype": "text/x-python",
   "name": "python",
   "nbconvert_exporter": "python",
   "pygments_lexer": "ipython3",
   "version": "3.8.5"
  }
 },
 "nbformat": 4,
 "nbformat_minor": 4
}
